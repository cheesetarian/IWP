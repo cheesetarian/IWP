{
 "cells": [
  {
   "cell_type": "code",
   "execution_count": 1,
   "metadata": {
    "collapsed": true
   },
   "outputs": [],
   "source": [
    "# reading MERRA2 hourly files, running through a year,\n",
    "#  and outputting a mean grid at its native resolution as downloaded\n",
    "# 2/1/18 fixed bug in calculation of daytime-only zonal means\n",
    "# 5/1/18 now can center on LST with set 'width' and handle season average grids\n",
    "from netCDF4 import Dataset\n",
    "from mpl_toolkits.basemap import Basemap #, cm\n",
    "import glob"
   ]
  },
  {
   "cell_type": "code",
   "execution_count": 2,
   "metadata": {},
   "outputs": [
    {
     "name": "stdout",
     "output_type": "stream",
     "text": [
      "12\n"
     ]
    }
   ],
   "source": [
    "mdir = '/home/dudavid/Dendrite/Dendrite/UserAreas/Dave/MERRA/'\n",
    "yr = '15' # year 20x\n",
    "de = 6 # time delta, in hours, around midday/midnight. i.e. 6 means 6-18/18-6, 3 = 9-15/21-3\n",
    "ctr= 12 # local solar time to center on i.e. noon=12, 1:30pm=13.5\n",
    "ts = 1 # time step in hrs of data (cant be changed)\n",
    "mons = sorted(glob.glob(mdir+yr+'*/'))\n",
    "print(len(mons))\n",
    "ordr = [11,0,1,2,3,4,5,6,7,8,9,10]\n",
    "mons = [mons[i] for i in ordr]\n",
    "#print(mons) # run in order DJF/MMA/JJA/SON/\n",
    "hrs = str(ctr)+'_'+str(ctr-de)+'to'+str(ctr+de) #'0to24'"
   ]
  },
  {
   "cell_type": "code",
   "execution_count": 3,
   "metadata": {
    "collapsed": true
   },
   "outputs": [],
   "source": [
    "gsize = 0.5 # in degrees, normal grid\n",
    "latmax= 90  # NS latitude limits of grid (downloaded this way)\n",
    "nx, ny = int(360.0/gsize), int(2.0*latmax/gsize) \n",
    "hlf = int(nx/2) # MERRA is 0to360, move to -180to180 grid\n",
    "# MERRA data on slightly different grid than EC, at midpoints rather than edges\n",
    "mean_grid_iwp = np.zeros([ny, nx])\n",
    "zonal_mean_iwp = np.zeros(ny)\n",
    "mean_grid_iwps = np.zeros([ny, nx])\n",
    "count = 0 # initialize\n",
    "counts = 0 # initialize\n",
    "ndays = 0\n",
    "#seasons = ['DJF','DJF','DJF','MAM','MAM','MAM','JJA','JJA','JJA','SON','SON','SON']"
   ]
  },
  {
   "cell_type": "code",
   "execution_count": 4,
   "metadata": {
    "collapsed": true
   },
   "outputs": [],
   "source": [
    "# read in landmask for era5:\n",
    "#lsfile = ecdir+'land0.5deg.nc' # make sure size matches gsize above\n",
    "#lf = Dataset(lsfile,'r')\n",
    "#lmask = np.array(lf['lsm'])[0,:,:] # 0.0 for ocean, 1.0 for land"
   ]
  },
  {
   "cell_type": "code",
   "execution_count": 9,
   "metadata": {
    "scrolled": false
   },
   "outputs": [
    {
     "name": "stdout",
     "output_type": "stream",
     "text": [
      "12\n",
      "starting mon:  /home/dudavid/Dendrite/Dendrite/UserAreas/Dave/MERRA/1512/\n",
      "histaz [50394207] [3337716 3910991 4633725 5479636 6309624 7195864 8286152 9353801 9700848\n",
      " 8898683 7066842 3671106  322626    1379       0       0       0       0\n",
      "       0]\n",
      "01\n",
      "starting mon:  /home/dudavid/Dendrite/Dendrite/UserAreas/Dave/MERRA/1501/\n",
      "histaz [52556427] [3572732 4088521 4753717 5554630 6312068 6914374 7678812 8426447 8867743\n",
      " 8500414 7120164 3894845  321658     648       0       0       0       0\n",
      "       0]\n",
      "02\n",
      "starting mon:  /home/dudavid/Dendrite/Dendrite/UserAreas/Dave/MERRA/1502/\n",
      "histaz [45866099] [3134692 3651547 4290198 5036449 5732769 6462301 7322965 8120234 8486226\n",
      " 7921642 6391588 3426479  278094     317       0       0       0       0\n",
      "       0]\n",
      "03\n",
      "starting mon:  /home/dudavid/Dendrite/Dendrite/UserAreas/Dave/MERRA/1503/\n",
      "histaz [49404238] [3290685 3873841 4613459 5479356 6379310 7340805 8405368 9341947 9746084\n",
      " 9101470 7338269 3932043  315574     751       0       0       0       0\n",
      "       0]\n",
      "04\n",
      "starting mon:  /home/dudavid/Dendrite/Dendrite/UserAreas/Dave/MERRA/1504/\n",
      "histaz [45085399] [ 3062461  3654363  4416930  5302452  6330559  7516045  8782294  9917968\n",
      " 10232382  9154782  7037686  3640417   281585      677        0        0\n",
      "        0        0        0]\n",
      "05\n",
      "starting mon:  /home/dudavid/Dendrite/Dendrite/UserAreas/Dave/MERRA/1505/\n",
      "histaz [48252277] [ 3186019  3777679  4517805  5391918  6378497  7442578  8613754  9776300\n",
      " 10338299  9461030  7264097  3843924   317751     1272        0        0\n",
      "        0        0        0]\n",
      "06\n",
      "starting mon:  /home/dudavid/Dendrite/Dendrite/UserAreas/Dave/MERRA/1506/\n",
      "histaz [49970431] [3031597 3542191 4191904 4956146 5810608 6747284 7753212 8793962 9515010\n",
      " 9018657 6931912 3754926  396646    1515       0       0       0       0\n",
      "       0]\n",
      "07\n",
      "starting mon:  /home/dudavid/Dendrite/Dendrite/UserAreas/Dave/MERRA/1507/\n",
      "histaz [52405192] [3132032 3660494 4322405 5112424 6033268 7051858 8054289 9014494 9574324\n",
      " 9014333 7046614 3763230  375080    3164       0       0       0       0\n",
      "       0]\n",
      "08\n",
      "starting mon:  /home/dudavid/Dendrite/Dendrite/UserAreas/Dave/MERRA/1508/\n",
      "histaz [53443956] [3195257 3661907 4252494 4952795 5765751 6690743 7717811 8809831 9717278\n",
      " 9273014 7041393 3689667  349002    2302       0       0       0       0\n",
      "       0]\n",
      "09\n",
      "starting mon:  /home/dudavid/Dendrite/Dendrite/UserAreas/Dave/MERRA/1509/\n",
      "histaz [52622878] [3039664 3502752 4077170 4755524 5499371 6317129 7277427 8346680 9283996\n",
      " 9025639 6779014 3536829  350565    1358       4       0       0       0\n",
      "       0]\n",
      "10\n",
      "starting mon:  /home/dudavid/Dendrite/Dendrite/UserAreas/Dave/MERRA/1510/\n",
      "histaz [52793599] [3227951 3749135 4386629 5145328 6007973 6914315 7921521 8955233 9586587\n",
      " 8884846 6889612 3749613  348193    2542     123       0       0       0\n",
      "       0]\n",
      "11\n",
      "starting mon:  /home/dudavid/Dendrite/Dendrite/UserAreas/Dave/MERRA/1511/\n",
      "histaz [47936350] [3139016 3712792 4433188 5302335 6204374 7124034 8279615 9392255 9744266\n",
      " 8605942 6583472 3618440  338962     961       0       0       0       0\n",
      "       0]\n"
     ]
    }
   ],
   "source": [
    "for m in mons:#[0:1]:\n",
    "    mo = m[len(m)-3:len(m)-1]\n",
    "    print(mo)\n",
    "    iwpall =[]\n",
    "    ndays = 0\n",
    "    if mo == '12' or mo == '03' or mo == '06' or mo == '09': #reset for each new season\n",
    "        mean_grid_iwps = np.zeros([ny, nx])\n",
    "        mean_grid_swps = np.zeros([ny, nx])\n",
    "        counts = 0 # initialize\n",
    "        ndayss = 0\n",
    "        if mo=='12': seas = 'DJF'\n",
    "        if mo=='03': seas = 'MAM'\n",
    "        if mo=='06': seas = 'JJA'\n",
    "        if mo=='09': seas = 'SON'\n",
    "    days = sorted(os.listdir(m))\n",
    "    print('starting mon: ',m) # all daily files in the month:\n",
    "    for d in days:#[0:1]:\n",
    "        f = Dataset(m+d,'r') # \"total precipitable ice water / total cloud ice water\" in kg/m^2\n",
    "        iwp = np.array(f['TQI']) # \"total column ice/snow water\" in kg/m^2\n",
    "        ndays += 1 # count days processed\n",
    "        ndayss += 1 # count days processed\n",
    "        for t in range(np.shape(iwp)[0]):\n",
    "                \n",
    "            subz = ((ctr+12)-t*ts)/24.0 * nx #)*((t*ts)/24.0) #+ nx \n",
    "            sub1, sub2 = int( subz - nx*de/24.0), int( subz + nx*de/24.0)\n",
    "            #print(sub1,sub2)\n",
    "            \n",
    "            if sub1 < 0 and sub2 < 0: sub1, sub2 = sub1+nx, sub2+nx\n",
    "            if sub1 < 0 or sub2 > nx:\n",
    "                if sub1 < 0:  sub1 += nx\n",
    "                if sub2 > nx: sub2 -= nx\n",
    "                iwp[t,:,sub1:sub2] = np.nan #for zonal means calc\n",
    "                mean_grid_iwp[:,0:sub2] += iwp[t,:,0:sub2]\n",
    "                mean_grid_iwp[:,sub1:nx] += iwp[t,:,sub1:nx]\n",
    "                mean_grid_iwps[:,0:sub2] += iwp[t,:,0:sub2]\n",
    "                mean_grid_iwps[:,sub1:nx] += iwp[t,:,sub1:nx]\n",
    "                zonal_mean_iwp[:] += np.nanmean(iwp[t,:,:],axis=1) #dont count \n",
    "            else:\n",
    "                mean_grid_iwp[:,sub1:sub2] += iwp[t,:,sub1:sub2]\n",
    "                mean_grid_iwps[:,sub1:sub2] += iwp[t,:,sub1:sub2]\n",
    "                zonal_mean_iwp[:] += iwp[t,:,sub1:sub2].mean(axis=1)\n",
    "                \n",
    "            count += 1\n",
    "            counts += 1\n",
    "            \n",
    "            totice = np.reshape(iwp[t,:,:], [ny,nx])\n",
    "            total_ice = np.reshape(totice[60:300,:],nx*240) # just 60NS into 1D  \n",
    "            iwpall.extend(total_ice)\n",
    "    \n",
    "    if mo == '02' or mo == '05' or mo == '08' or mo == '11': #write out at end of each 3mo season\n",
    "        mean_grid_iwps /= float(counts/(24.0/(de*2)))\n",
    "        nds = str(ndayss)\n",
    "        fin = 'grids/merra.'+seas+'.'+str(nx)+'x.'+str(ny)+'y.'+hrs+'_'+str(ts)+'hrly.iwp.v1.'+yr+'.'+nds\n",
    "        shift_grid = np.zeros([ny,nx]) #mean_grid_iwp[:,:]\n",
    "        shift_grid[:,0:hlf] = mean_grid_iwps[:,hlf:nx]\n",
    "        shift_grid[:,hlf:nx] = mean_grid_iwps[:,0:hlf]\n",
    "        np.save(fin+'.grid',shift_grid) #mean_grid_iwps)\n",
    "\n",
    "    nd = str(ndays)\n",
    "    binz = [2**x for x in range(-14,6)]\n",
    "    binzz = [-.001,2**(-14)]\n",
    "    hista, bin_edges  = np.histogram(np.array(iwpall),bins=binz)\n",
    "    histaz, bin_edges = np.histogram(np.array(iwpall),bins=binzz)\n",
    "    print('histaz',histaz,hista)\n",
    "    fin = 'grids/merra.histo.all.60NS.v2.'+yr+mo+'.'+nd\n",
    "    #fin = 'grids/era5.histo.all.ciwonly.v2.'+yr+mo+'.'+nds\n",
    "    outz = np.append(histaz,hista)\n",
    "    np.save(fin,outz) #hista)\n",
    "    \n",
    "\n",
    "mean_grid_iwp /= float(count/(24.0/(de*2)))\n",
    "zonal_mean_iwp /= float(count)"
   ]
  },
  {
   "cell_type": "code",
   "execution_count": null,
   "metadata": {
    "collapsed": true
   },
   "outputs": [],
   "source": [
    "# create histogram of IWP\n",
    "#iwpa = np.array(iwpall)\n",
    "binz = [2**x for x in range(-14,5)]\n",
    "\n",
    "#print(iwpa.max(),iwpa.min())\n",
    "#hista, bin_edges  = np.histogram(np.array(iwpall),bins=binz)\n",
    "#histi, bin_edges  = np.histogram(np.array(iwpi),bins=binz)\n",
    "#hists, bin_edges  = np.histogram(np.array(iwps),bins=binz)"
   ]
  },
  {
   "cell_type": "code",
   "execution_count": null,
   "metadata": {
    "collapsed": true,
    "scrolled": false
   },
   "outputs": [],
   "source": [
    "nd = str(ndays)\n",
    "# dataset name, res (x,y), time res of input, output arrays (grids, zonals), version?, # days\n",
    "#out = open('grids/merra.'+str(nx)+'x.'+str(ny)+'y.3hrly.iwp.zi.hist.v1.'+yr+'.'+nd+'.bin','wb') #write binary mode\n",
    "hrs = str(ctr)+'_'+str(ctr-de)+'to'+str(ctr+de) #'0to24'\n",
    "fin = 'grids/merra.'+str(nx)+'x.'+str(ny)+'y.'+hrs+'_'+str(ts)+'hrly.iwp.v1.'+yr+'.'+nd\n",
    "shift_grid = np.zeros([ny,nx]) #mean_grid_iwp[:,:]\n",
    "#hlf = int(nx/2)\n",
    "shift_grid[:,0:hlf] = mean_grid_iwp[:,hlf:nx]\n",
    "shift_grid[:,hlf:nx] = mean_grid_iwp[:,0:hlf]\n",
    "np.save(fin+'.grid',shift_grid)\n",
    "np.save(fin+'.zonal',zonal_mean_iwp)\n",
    "#np.save(hista,fin+'.zonal')"
   ]
  },
  {
   "cell_type": "code",
   "execution_count": null,
   "metadata": {
    "collapsed": true,
    "scrolled": false
   },
   "outputs": [],
   "source": [
    "#fig = plt.figure()\n",
    "#ax = fig.add_subplot(111)\n",
    "#plt.plot(binz[1:],hista/sum(hista),'r-o',label='SWP+CIWP')\n",
    "#plt.plot(binz[1:],histi/sum(histi),'b-o',label='Cloud ice')\n",
    "#plt.plot(binz[1:],hists/sum(hists),'k-o',label='Snow')\n",
    "#plt.xscale('log')\n",
    "#plt.xlabel(r'$IWP [kg/m^2]$')\n",
    "#plt.ylabel('Fraction of cloudy counts')\n",
    "#plt.title('Oceanic IWP and SWP, '+mon+' ERA5')#dire)\n",
    "#plt.ylim(.005,.16)\n",
    "#plt.legend()\n",
    "#plt.show()\n",
    "#fig.savefig('img/era5.'+mon+'.histo.png')"
   ]
  },
  {
   "cell_type": "code",
   "execution_count": null,
   "metadata": {
    "collapsed": true,
    "scrolled": false
   },
   "outputs": [],
   "source": [
    "# plot zonal means\n",
    "figz = plt.figure(figsize=[7,7])\n",
    "zax = np.linspace(-1*latmax,latmax,ny)\n",
    "#plt.plot(1000*zonal_mean_iwp[::-1]+zonal_mean_swp[::-1],zax,'r-o',label='SWP+CIWP')\n",
    "#plt.plot(1000*zonal_mean_iwp[::-1],zax,'b-o',label='CIWP')\n",
    "#plt.plot(1000*zonal_mean_swp[::-1],zax,'g-o',label='SWP')\n",
    "#plt.plot(1000*(zonal_mean_swp[::-1]+zonal_mean_iwp[::-1]),zax,'k-o',label='CIWP+SWP')\n",
    "plt.plot(zonal_mean_iwp[::-1],zax,'b-o',label='IWP')\n",
    "#plt.plot(1000*zonal_mean_swp[:],zax,'g-o',label='SWP')\n",
    "#plt.plot(1000*(zonal_mean_swp[:]+zonal_mean_iwp[:]),zax,'k-o',label='CIWP+SWP')\n",
    "plt.xlabel(r'$IWP [kg/m^2]$')\n",
    "plt.ylabel(r'$Latitude [^oN]$')\n",
    "plt.title('MERRA '+dn+' 20'+yr+' zonal means')\n",
    "plt.legend()\n",
    "plt.show()\n",
    "figz.savefig('img/merra.'+dn+'.20'+yr+'.day.zonal.jpg',dpi=400)"
   ]
  },
  {
   "cell_type": "code",
   "execution_count": null,
   "metadata": {
    "collapsed": true,
    "scrolled": false
   },
   "outputs": [],
   "source": [
    "# plot global mean maps of CIWP/SWP\n",
    "fig1 = plt.figure(figsize=[11,5])\n",
    "print(info(mean_grid_iwp))\n",
    "#grdmap(shift_grid,-180,latmax,.001,0.2,1,'MERRA 20'+yr+' IWP mean')#+mon)\n",
    "grdmap(mean_grid_iwp,0,latmax,.001,0.2,1,'MERRA '+dn+' 20'+yr+' IWP mean')#+mon)\n",
    "#grdmap(mean_grid_iwp,lomin=-180,lamin=70,vmin=.001,vmax=0.4,expflag=1,'ERA5 IWP')\n",
    "fig1.savefig('img/merra.20'+yr+'.'+dn+'.iwp_grid.jpg',dpi=500)\n",
    "#fig2 = plt.figure(figsize=[11,5])\n",
    "#print(info(mean_grid_swp))\n",
    "#grdmap(mean_grid_swp,-180,70,.001,0.2,1,'ERA5 20'+yr+' SWP mean')#+mon)\n",
    "##grdmap(mean_grid_swp,lomin=-180,lamin=70,vmin=.001,vmax=0.4,expflag=1)\n",
    "#fig2.savefig('img/era5.20'+yr+'.swp_grid.png',dpi=300)"
   ]
  },
  {
   "cell_type": "code",
   "execution_count": null,
   "metadata": {
    "collapsed": true
   },
   "outputs": [],
   "source": []
  }
 ],
 "metadata": {
  "kernelspec": {
   "display_name": "Python 3",
   "language": "python",
   "name": "python3"
  },
  "language_info": {
   "codemirror_mode": {
    "name": "ipython",
    "version": 3
   },
   "file_extension": ".py",
   "mimetype": "text/x-python",
   "name": "python",
   "nbconvert_exporter": "python",
   "pygments_lexer": "ipython3",
   "version": "3.6.4"
  }
 },
 "nbformat": 4,
 "nbformat_minor": 2
}
