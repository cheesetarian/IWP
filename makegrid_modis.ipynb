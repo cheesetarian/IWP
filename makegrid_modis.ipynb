{
 "cells": [
  {
   "cell_type": "code",
   "execution_count": 8,
   "metadata": {
    "collapsed": true
   },
   "outputs": [],
   "source": [
    "# reading MODIS daily files, running through a year,\n",
    "#  and outputting a mean grid at its native resolution as downloaded\n",
    "# updated dduncan 19/1/18 to allow selection of aqua-only vs. combined aqua/terra grids\n",
    "# updated dduncan 30/1/18 for weighting by cloud retrieval fraction (that's what others in\n",
    "#  the literature do, documentation is unclear!), don't have terra data though so it's aqua-only rn\n",
    "from pyhdf.SD import SD, SDC\n",
    "import glob"
   ]
  },
  {
   "cell_type": "code",
   "execution_count": 9,
   "metadata": {
    "collapsed": true
   },
   "outputs": [],
   "source": [
    "mdir = '/home/dudavid/Dendrite/Dendrite/UserAreas/Dave/MODIS/'\n",
    "yr = '15' # year 20x\n",
    "f_terra = sorted(glob.glob(mdir+'MOD08_D3.A20'+yr+'*.hdf'))\n",
    "f_aqua  = sorted(glob.glob(mdir+'MYD08_D3.A20'+yr+'*.hdf'))\n",
    "aqua = 1 # if on, use aqua data only, else it's a blended terra/aqua grid that's output"
   ]
  },
  {
   "cell_type": "code",
   "execution_count": 10,
   "metadata": {},
   "outputs": [
    {
     "name": "stdout",
     "output_type": "stream",
     "text": [
      "180 360\n",
      "365 365\n"
     ]
    }
   ],
   "source": [
    "gsize = 1.0 # in degrees, normal grid\n",
    "latmax= 90  # NS latitude limits of grid (limited due to daylight )\n",
    "yy = 90-latmax\n",
    "nx, ny = int(360.0/gsize), int(2.0*latmax/gsize) \n",
    "mean_grid_iwp = np.zeros([ny, nx])\n",
    "zonal_mean_iwp = np.zeros(ny)\n",
    "count = np.zeros([ny, nx]) # initialize\n",
    "ndays = 0\n",
    "iwpall =[]\n",
    "print(ny,nx)\n",
    "print(len(f_terra),len(f_aqua))"
   ]
  },
  {
   "cell_type": "code",
   "execution_count": 11,
   "metadata": {
    "scrolled": true
   },
   "outputs": [
    {
     "name": "stdout",
     "output_type": "stream",
     "text": [
      "0\n",
      "20\n",
      "40\n",
      "60\n",
      "80\n",
      "100\n",
      "120\n",
      "140\n",
      "160\n",
      "180\n",
      "200\n",
      "220\n",
      "240\n",
      "260\n",
      "280\n",
      "300\n",
      "320\n",
      "340\n",
      "360\n",
      "[0.0085460000000000015, 90.568087300000016, 14.033056501050927, 9.8719424263611284]\n",
      "[9.0, 345.0, 169.32256172839507, 60.197549760278875]\n",
      "[0.00077690909090909102, 0.34206659108527127, 0.074040057459642233, 0.03612518717842287]\n",
      "[0.0067195436750380521, 0.077942953552511365, 0.038446730139865555, 0.018512965102152289]\n"
     ]
    }
   ],
   "source": [
    "for d in range(len(f_aqua)):#[0:1]:\n",
    "#for d in range(len(f_terra[0:30])):\n",
    "    if ndays % 20 == 0: print(d)\n",
    "    if aqua == 0: \n",
    "        t = SD(f_terra[d],SDC.READ)  # tried looking at maxima just once!\n",
    "        te_iwp =  0.001 * t.select('Cloud_Water_Path_Ice_Mean')[yy:(180-yy),:]\n",
    "        te_crf = 0.0001 * t.select('Cloud_Retrieval_Fraction_Ice')[yy:(180-yy),:] # NEW 30/1!\n",
    "        #te_iwp =  0.001 * t.select('Cloud_Water_Path_Ice_Maximum')[yy:(180-yy),:]\n",
    "    a = SD(f_aqua[d],SDC.READ) \n",
    "    aq_iwp =  0.001 * a.select('Cloud_Water_Path_Ice_Mean')[yy:(180-yy),:]\n",
    "    aq_crf = 0.0001 * a.select('Cloud_Retrieval_Fraction_Ice')[yy:(180-yy),:] # NEW 30/1!\n",
    "    #print(info(aq_crf))\n",
    "    #aq_iwp =  0.001 * a.select('Cloud_Water_Path_Ice_Maximum')[yy:(180-yy),:]\n",
    "    if aqua==1: \n",
    "        te_iwp = aq_iwp*0 - 9.999 # if wanting aqua-only IWP output\n",
    "    aq_iwp[ aq_iwp < 0 ] = np.nan\n",
    "    te_iwp[ te_iwp < 0 ] = np.nan\n",
    "    ndays += 1 # count days processed\n",
    "    modis_daily_combined = np.zeros([ny,nx]) #+ np.nan\n",
    "    dcount = np.zeros([ny,nx])\n",
    "    #print(np.nanmax(aq_iwp),np.nanmax(te_iwp))\n",
    "    for x in range(nx):\n",
    "        for y in range(ny):\n",
    "            if (aq_iwp[y,x]>=0 and te_iwp[y,x]>=0): \\\n",
    "                modis_daily_combined[y,x] = (aq_iwp[y,x]*aq_crf[y,x] + te_iwp[y,x]*te_crf[y,x])*.5\n",
    "            if (aq_iwp[y,x]>=0 or  te_iwp[y,x]>=0): dcount[y,x] = 1\n",
    "            if (aq_iwp[y,x]>=0 or  te_iwp[y,x]>=0): count[y,x] += 1\n",
    "            if (aq_iwp[y,x]>=0 and np.isnan(te_iwp[y,x])): \\\n",
    "                modis_daily_combined[y,x] = aq_iwp[y,x]*aq_crf[y,x]\n",
    "            if (np.isnan(aq_iwp[y,x]) and te_iwp[y,x]>=0): \\\n",
    "                modis_daily_combined[y,x] = te_iwp[y,x]*te_crf[y,x]\n",
    "            #if (aq_iwp[y,x]<0 and te_iwp[y,x]>=0): modis_daily_combined[y,x] = te_iwp[y,x]\n",
    "    mean_grid_iwp[dcount > 0] += modis_daily_combined[dcount > 0] #really a total of good points\n",
    "    #print(np.mean(modis_daily_combined[ dcount > 0]))\n",
    "    zonal_mean_iwp[:] += np.nanmean(modis_daily_combined[:,:],axis=1)\n",
    "    #print(zonal_mean_iwp)\n",
    "    #totice = np.reshape(modis_daily_combined[:,:], [ny,nx])\n",
    "    #iwpall.extend(modis_daily_combined[ dcount > 0 ])\n",
    "\n",
    "print(info(mean_grid_iwp))\n",
    "print(info(count))\n",
    "mean_grid_iwp[count > 0] /= count[count > 0]  #divide by array of counts now\n",
    "zonal_mean_iwp /= float(ndays)\n",
    "print(info(mean_grid_iwp))\n",
    "print(info(zonal_mean_iwp))"
   ]
  },
  {
   "cell_type": "code",
   "execution_count": 12,
   "metadata": {
    "collapsed": true
   },
   "outputs": [],
   "source": [
    "#iwpall = iwpall[ iwpall == iwpall] #get rid of one nan value?\n",
    "#print(iwpall[iwpall != iwpall])\n",
    "# create histogram of IWP\n",
    "#binz = [2**x for x in range(-14,5)]\n",
    "#hista, bin_edges  = np.histogram(np.array(iwpall),bins=binz)"
   ]
  },
  {
   "cell_type": "code",
   "execution_count": 13,
   "metadata": {
    "collapsed": true,
    "scrolled": false
   },
   "outputs": [],
   "source": [
    "nd = str(ndays)\n",
    "# dataset name, res (x,y), time res of input, output arrays (grids, zonals), version?, # days\n",
    "#out = open('grids/modis.'+str(nx)+'x.'+str(ny)+'y.daily.iwp.zi.hist.v1.'+nd+'.bin','wb') #write binary mode\n",
    "if aqua:  # v2 for using cloud retrieval fraction to weight IWP values\n",
    "    fin = 'grids/modis-aqua.'+str(nx)+'x.'+str(ny)+'y.daily.iwp.zi.hist.v2.'+yr+'.'+nd\n",
    "else:\n",
    "    fin = 'grids/modis-combined.'+str(nx)+'x.'+str(ny)+'y.daily.iwp.zi.hist.v2.'+yr+'.'+nd\n",
    "np.save(fin+'.grid',mean_grid_iwp)\n",
    "np.save(fin+'.zonal',zonal_mean_iwp)\n",
    "#out.write(mean_grid_iwp)\n",
    "#out.write(mean_grid_swp)\n",
    "#out.write(zonal_mean_iwp)\n",
    "#out.write(zonal_mean_swp)\n",
    "#out.write(hista) # counts from given bins (2e-14 to 2e5)\n",
    "#out.close()"
   ]
  },
  {
   "cell_type": "code",
   "execution_count": null,
   "metadata": {
    "collapsed": true,
    "scrolled": false
   },
   "outputs": [],
   "source": [
    "#fig = plt.figure()\n",
    "#ax = fig.add_subplot(111)\n",
    "#plt.plot(binz[1:],hista/sum(hista),'r-o',label='SWP+CIWP')\n",
    "#plt.plot(binz[1:],histi/sum(histi),'b-o',label='Cloud ice')\n",
    "#plt.plot(binz[1:],hists/sum(hists),'k-o',label='Snow')\n",
    "#plt.xscale('log')\n",
    "#plt.xlabel(r'$IWP [kg/m^2]$')\n",
    "#plt.ylabel('Fraction of cloudy counts')\n",
    "#plt.title('Oceanic IWP and SWP, '+mon+' ERA5')#dire)\n",
    "#plt.ylim(.005,.16)\n",
    "#plt.legend()\n",
    "#plt.show()\n",
    "#fig.savefig('img/era5.'+mon+'.histo.png')"
   ]
  },
  {
   "cell_type": "code",
   "execution_count": null,
   "metadata": {},
   "outputs": [],
   "source": [
    "# plot zonal means\n",
    "figz = plt.figure(figsize=[7,7])\n",
    "zax = np.linspace(-1*latmax,latmax,ny)\n",
    "#plt.plot(1000*zonal_mean_iwp[::-1]+zonal_mean_swp[::-1],zax,'r-o',label='SWP+CIWP')\n",
    "#plt.plot(1000*zonal_mean_iwp[::-1],zax,'b-o',label='CIWP')\n",
    "#plt.plot(1000*zonal_mean_swp[::-1],zax,'g-o',label='SWP')\n",
    "#plt.plot(1000*(zonal_mean_swp[::-1]+zonal_mean_iwp[::-1]),zax,'k-o',label='CIWP+SWP')\n",
    "plt.plot(zonal_mean_iwp[::-1],zax,'b-o',label='IWP')\n",
    "#plt.plot(1000*zonal_mean_swp[:],zax,'g-o',label='SWP')\n",
    "#plt.plot(1000*(zonal_mean_swp[:]+zonal_mean_iwp[:]),zax,'k-o',label='CIWP+SWP')\n",
    "plt.xlabel(r'$IWP [kg/m^2]$')\n",
    "plt.ylabel(r'$Latitude [^oN]$')\n",
    "if aqua ==1: plt.title('Aqua-MODIS 20'+yr+' zonal means')\n",
    "if aqua ==0: plt.title('Combined-MODIS 20'+yr+' zonal means')\n",
    "plt.legend()\n",
    "plt.show()\n",
    "figz.savefig('img/modis.20'+yr+'.zonal.jpg',dpi=400)"
   ]
  },
  {
   "cell_type": "code",
   "execution_count": null,
   "metadata": {
    "scrolled": false
   },
   "outputs": [],
   "source": [
    "# plot global mean maps of CIWP/SWP\n",
    "print(np.size(mean_grid_iwp[mean_grid_iwp != mean_grid_iwp]))\n",
    "fig1 = plt.figure(figsize=[11,5])\n",
    "print(info(mean_grid_iwp))\n",
    "grdmap(mean_grid_iwp,-180,latmax,.001,0.4,1,'MODIS 20'+yr+' IWP mean')#+mon)\n",
    "#grdmap(mean_grid_iwp,lomin=-180,lamin=70,vmin=.001,vmax=0.4,expflag=1,'ERA5 IWP')\n",
    "if aqua ==0: fig1.savefig('img/modis-combined.20'+yr+'.iwp_grid.jpg',dpi=500)\n",
    "if aqua ==1: fig1.savefig('img/modis-aqua.20'+yr+'.iwp_grid.jpg',dpi=500)\n",
    "#fig2 = plt.figure(figsize=[11,5])\n",
    "#print(info(mean_grid_swp))\n",
    "#grdmap(mean_grid_swp,-180,70,.001,0.2,1,'ERA5 20'+yr+' SWP mean')#+mon)\n",
    "##grdmap(mean_grid_swp,lomin=-180,lamin=70,vmin=.001,vmax=0.4,expflag=1)\n",
    "#fig2.savefig('img/era5.20'+yr+'.swp_grid.png',dpi=300)"
   ]
  },
  {
   "cell_type": "code",
   "execution_count": null,
   "metadata": {
    "collapsed": true
   },
   "outputs": [],
   "source": []
  }
 ],
 "metadata": {
  "kernelspec": {
   "display_name": "Python 3",
   "language": "python",
   "name": "python3"
  },
  "language_info": {
   "codemirror_mode": {
    "name": "ipython",
    "version": 3
   },
   "file_extension": ".py",
   "mimetype": "text/x-python",
   "name": "python",
   "nbconvert_exporter": "python",
   "pygments_lexer": "ipython3",
   "version": "3.6.4"
  }
 },
 "nbformat": 4,
 "nbformat_minor": 2
}
