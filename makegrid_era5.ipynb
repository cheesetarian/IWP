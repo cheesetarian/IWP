{
 "cells": [
  {
   "cell_type": "code",
   "execution_count": 1,
   "metadata": {
    "collapsed": true
   },
   "outputs": [],
   "source": [
    "# reading ERA5 3-hourly files, running through a year,\n",
    "#  and outputting a mean grid at its native resolution as downloaded\n",
    "# 2/1/18 fixed bug in calculation of daytime-only zonal means\n",
    "from netCDF4 import Dataset\n",
    "from mpl_toolkits.basemap import Basemap #, cm\n",
    "import glob"
   ]
  },
  {
   "cell_type": "code",
   "execution_count": 2,
   "metadata": {},
   "outputs": [
    {
     "name": "stdout",
     "output_type": "stream",
     "text": [
      "12\n",
      "hrs:  13.5_10.5to16.5\n"
     ]
    }
   ],
   "source": [
    "ecdir = '/home/dudavid/Dendrite/Dendrite/UserAreas/Dave/EC/'\n",
    "yr = '15' # year 20x\n",
    "#dn = 'night' # day/night flag, new 2/1/18 ---- GOT RID OF THIS AND SUPPPLANTED BY APPROACH BELOW\n",
    "de = 3 # time delta, in hours, around midday/midnight. i.e. 6 means 6-18/18-6, 3 = 9-15/21-3\n",
    "#ctr= 1.5 # local solar time to center on i.e. noon=12, 1:30pm=13.5\n",
    "ctr= 13.5 # local solar time to center on i.e. noon=12, 1:30pm=13.5\n",
    "ts = 3 # time step in hrs of data (cant be changed--downloaded this way)\n",
    "mons = sorted(glob.glob(ecdir+yr+'*/'))\n",
    "print(len(mons))\n",
    "ordr = [11,0,1,2,3,4,5,6,7,8,9,10]\n",
    "mons = [mons[i] for i in ordr]\n",
    "#print(mons) # run in order DJF/MMA/JJA/SON/\n",
    "hrs = str(ctr)+'_'+str(ctr-de)+'to'+str(ctr+de) #'0to24'\n",
    "print('hrs: ',hrs)"
   ]
  },
  {
   "cell_type": "code",
   "execution_count": 3,
   "metadata": {},
   "outputs": [
    {
     "name": "stdout",
     "output_type": "stream",
     "text": [
      "360 nx:  720\n"
     ]
    }
   ],
   "source": [
    "gsize = 0.5 # in degrees, normal grid (downloaded this way. if wanting to change output grid, do elsewhere)\n",
    "latmax= 90  # NS latitude limits of grid (downloaded this way)\n",
    "nx, ny = int(360.0/gsize), int(2.0*latmax/gsize)+1 \n",
    "# EC has points AT lat/lon intersections, so EC data actually -180 to 179.5, -90 to 90\n",
    "mean_grid_iwp = np.zeros([ny, nx])\n",
    "mean_grid_swp = np.zeros([ny, nx])\n",
    "zonal_mean_iwp = np.zeros(ny)\n",
    "zonal_mean_swp = np.zeros(ny)\n",
    "count = 0 # initialize\n",
    "ndays = 0\n",
    "#iwpall = []\n",
    "print(int(nx/2),'nx: ',nx)"
   ]
  },
  {
   "cell_type": "code",
   "execution_count": 4,
   "metadata": {
    "collapsed": true
   },
   "outputs": [],
   "source": [
    "# read in landmask for era5:\n",
    "#lsfile = ecdir+'land0.5deg.nc' # make sure size matches gsize above\n",
    "#lf = Dataset(lsfile,'r')\n",
    "#lmask = np.array(lf['lsm'])[0,:,:] # 0.0 for ocean, 1.0 for land"
   ]
  },
  {
   "cell_type": "code",
   "execution_count": 8,
   "metadata": {
    "scrolled": false
   },
   "outputs": [
    {
     "name": "stdout",
     "output_type": "stream",
     "text": [
      "12\n",
      "starting mon:  /home/dudavid/Dendrite/Dendrite/UserAreas/Dave/EC/1512/\n",
      "histaz [14100680] [1135707 1161872 1296304 1505416 1720411 2145361 2649040 3193791 3371266\n",
      " 3161913 2602569 1976652 1376137  853223  417756  140660   34105    9204\n",
      "    2310]\n",
      "01\n",
      "starting mon:  /home/dudavid/Dendrite/Dendrite/UserAreas/Dave/EC/1501/\n",
      "histaz [15241661] [1010453 1116143 1250836 1446505 1660243 2061376 2541743 3029320 3158643\n",
      " 2952499 2524163 1961266 1405041  872107  436704  144768   32763    7021\n",
      "    1135]\n",
      "02\n",
      "starting mon:  /home/dudavid/Dendrite/Dendrite/UserAreas/Dave/EC/1502/\n",
      "histaz [13527787] [ 969305 1053391 1132028 1348008 1541598 1923818 2331980 2808530 2915479\n",
      " 2677709 2254113 1735441 1222860  756590  364934  113977   23409    5081\n",
      "    1156]\n",
      "03\n",
      "starting mon:  /home/dudavid/Dendrite/Dendrite/UserAreas/Dave/EC/1503/\n",
      "histaz [14559691] [1017185 1111751 1324210 1471267 1727827 2146531 2621672 3166207 3349240\n",
      " 3017870 2519928 1960528 1401895  872504  422956  128976   27196    5801\n",
      "    1155]\n",
      "04\n",
      "starting mon:  /home/dudavid/Dendrite/Dendrite/UserAreas/Dave/EC/1504/\n",
      "histaz [13471166] [1146952 1233354 1281096 1536806 1740267 2139516 2543309 3030960 3248705\n",
      " 2971026 2464389 1928191 1376115  841568  379792  105996   23755    7006\n",
      "    2012]\n",
      "05\n",
      "starting mon:  /home/dudavid/Dendrite/Dendrite/UserAreas/Dave/EC/1505/\n",
      "histaz [13574966] [1247033 1195572 1430658 1601259 1832733 2271212 2693746 3163809 3405867\n",
      " 3181726 2570077 1932970 1350756  837102  401664  123535   28415    8704\n",
      "    2569]\n",
      "06\n",
      "starting mon:  /home/dudavid/Dendrite/Dendrite/UserAreas/Dave/EC/1506/\n",
      "histaz [14217557] [1185003 1168407 1290194 1488006 1706358 2107093 2499613 2935932 3163368\n",
      " 2920883 2340537 1782477 1279917  814855  402817  128183   29769    8550\n",
      "    2459]\n",
      "07\n",
      "starting mon:  /home/dudavid/Dendrite/Dendrite/UserAreas/Dave/EC/1507/\n",
      "histaz [15028348] [1265922 1237927 1350526 1558946 1793882 2184454 2536678 2972914 3169493\n",
      " 2929829 2351521 1784368 1286244  836196  399157  126147   31727    8367\n",
      "    1746]\n",
      "08\n",
      "starting mon:  /home/dudavid/Dendrite/Dendrite/UserAreas/Dave/EC/1508/\n",
      "histaz [15178831] [1264730 1212660 1300965 1521778 1761744 2173747 2614550 3086385 3212209\n",
      " 2900799 2295972 1731097 1246643  797508  389018  122170   32337    9387\n",
      "    1855]\n",
      "09\n",
      "starting mon:  /home/dudavid/Dendrite/Dendrite/UserAreas/Dave/EC/1509/\n",
      "histaz [14496636] [1079171 1228862 1318373 1516564 1744986 2140056 2535782 2924619 3061783\n",
      " 2829444 2298784 1742767 1241009  783341  374668  115384   29377    8469\n",
      "    1918]\n",
      "10\n",
      "starting mon:  /home/dudavid/Dendrite/Dendrite/UserAreas/Dave/EC/1510/\n",
      "histaz [14643512] [1198973 1169312 1311293 1535095 1755152 2166036 2599266 3072172 3278077\n",
      " 2986647 2421445 1873930 1367693  877842  419687  134856   32642    8789\n",
      "    1972]\n",
      "11\n",
      "starting mon:  /home/dudavid/Dendrite/Dendrite/UserAreas/Dave/EC/1511/\n",
      "histaz [13944496] [1074719 1055754 1349731 1489716 1690746 2084706 2519787 3066470 3315261\n",
      " 2975934 2382234 1832903 1306517  827719  400927  119301   26513    6911\n",
      "    1648]\n"
     ]
    }
   ],
   "source": [
    "for m in mons:#[0:1]:\n",
    "    mo = m[len(m)-3:len(m)-1]\n",
    "    print(mo)\n",
    "    iwpall = []\n",
    "    ndays = 0\n",
    "    if mo == '12' or mo == '03' or mo == '06' or mo == '09': #reset for each new season\n",
    "        mean_grid_iwps = np.zeros([ny, nx])\n",
    "        mean_grid_swps = np.zeros([ny, nx])\n",
    "        counts = 0 # initialize\n",
    "        ndayss = 0\n",
    "        if mo=='12': seas = 'DJF'\n",
    "        if mo=='03': seas = 'MAM'\n",
    "        if mo=='06': seas = 'JJA'\n",
    "        if mo=='09': seas = 'SON'\n",
    "        \n",
    "    days = sorted(os.listdir(m)) # all daily files in the month:\n",
    "    print('starting mon: ',m)\n",
    "    for d in days:#[0:1]:\n",
    "        f = Dataset(m+d,'r')\n",
    "        iwp, swp = np.array(f['tciw']), np.array(f['tcsw'])  #\"total column ice/snow water\" in kg/m^2\n",
    "        #iwp[iwp > 0.2] = 0.2\n",
    "        #swp[swp > 1.0] = 1.0 # A TEST FOR V2________ BE CAREFUL IF RUNNING LATER\n",
    "        ndays += 1 # count days processed\n",
    "        ndayss+= 1 # counts days processed\n",
    "        for t in range(np.shape(iwp)[0]):\n",
    "                \n",
    "            subz = ((ctr+12)-t*ts)/24.0 * nx #)*((t*ts)/24.0) #+ nx \n",
    "            sub1, sub2 = int( subz - nx*de/24.0), int( subz + nx*de/24.0)\n",
    "            \n",
    "            if sub1 < 0 and sub2 < 0: sub1, sub2 = sub1+nx, sub2+nx\n",
    "            #print(sub1,sub2)\n",
    "            if sub1 < 0 or sub2 > nx:\n",
    "                if sub1 < 0:  sub1 += nx\n",
    "                if sub2 > nx: sub2 -= nx\n",
    "                #print('oddz: ',sub1,sub2)\n",
    "                iwp[t,:,sub1:sub2], swp[t,:,sub1:sub2] = np.nan, np.nan #for zonal means calc\n",
    "                mean_grid_iwp[:,0:sub2] += iwp[t,:,0:sub2]\n",
    "                mean_grid_swp[:,0:sub2] += swp[t,:,0:sub2]\n",
    "                mean_grid_iwp[:,sub1:nx] += iwp[t,:,sub1:nx]\n",
    "                mean_grid_swp[:,sub1:nx] += swp[t,:,sub1:nx]\n",
    "                mean_grid_iwps[:,0:sub2] += iwp[t,:,0:sub2]\n",
    "                mean_grid_swps[:,0:sub2] += swp[t,:,0:sub2]\n",
    "                mean_grid_iwps[:,sub1:nx] += iwp[t,:,sub1:nx]\n",
    "                mean_grid_swps[:,sub1:nx] += swp[t,:,sub1:nx]\n",
    "                zonal_mean_iwp[:] += np.nanmean(iwp[t,:,:],axis=1) #dont count \n",
    "                zonal_mean_swp[:] += np.nanmean(swp[t,:,:],axis=1) #non-day pts\n",
    "            else:\n",
    "                mean_grid_iwp[:,sub1:sub2] += iwp[t,:,sub1:sub2]\n",
    "                mean_grid_swp[:,sub1:sub2] += swp[t,:,sub1:sub2]\n",
    "                mean_grid_iwps[:,sub1:sub2] += iwp[t,:,sub1:sub2]\n",
    "                mean_grid_swps[:,sub1:sub2] += swp[t,:,sub1:sub2]\n",
    "                zonal_mean_iwp[:] += iwp[t,:,sub1:sub2].mean(axis=1)\n",
    "                zonal_mean_swp[:] += swp[t,:,sub1:sub2].mean(axis=1)\n",
    "                \n",
    "            count += 1\n",
    "            counts += 1\n",
    "            \n",
    "            # new feb 2018, taking a-train timed slices for a histogram:\n",
    "            #totice =   #### actually, just all time steps for now!\n",
    "            #totice = np.reshape(iwp[t,:,:],[ny,nx])\n",
    "            totice = np.reshape(iwp[t,:,:] + swp[t,:,:],[ny,nx])\n",
    "            total_ice = np.reshape(totice[60:300,:],nx*240) # just 60NS into 1D \n",
    "            iwpall.extend(total_ice)\n",
    "            ##iwpi.extend(np.reshape(iwp[t,:,:],[ny,nx]))#[lmask==0])\n",
    "            ##iwps.extend(np.reshape(swp[t,:,:],[ny,nx]))#[lmask==0])\n",
    "            \n",
    "    \n",
    "    nds = str(ndays)\n",
    "    binz = [2**x for x in range(-14,6)]\n",
    "    binzz = [-.001,2**(-14)]\n",
    "    hista, bin_edges  = np.histogram(np.array(iwpall),bins=binz)\n",
    "    histaz, bin_edges = np.histogram(np.array(iwpall),bins=binzz)\n",
    "    print('histaz',histaz,hista)\n",
    "    fin = 'grids/era5.histo.all.v2.'+yr+mo+'.'+nds\n",
    "    #fin = 'grids/era5.histo.all.ciwonly.v2.'+yr+mo+'.'+nds\n",
    "    outz = np.append(histaz,hista)\n",
    "    np.save(fin,outz) #hista)\n",
    "            \n",
    "    # if wanting seasonal total/count grids, uncomment save statements below\n",
    "    if mo == '02' or mo == '05' or mo == '08' or mo == '11': #write out at end of each 3mo season\n",
    "        mean_grid_iwps /= float(counts/(24.0/(de*2)))\n",
    "        mean_grid_swps /= float(counts/(24.0/(de*2)))\n",
    "        nds = str(ndayss)\n",
    "        fin = 'grids/era5.'+seas+'.'+str(nx)+'x.'+str(ny)+'y.'+hrs+'_3hrly.iwp.swp.v1.'+yr+'.'+nds\n",
    "        #fin = 'grids/era5.'+seas+'.'+str(nx)+'x.'+str(ny)+'y.'+hrs+'_3hrly.iwp.swp.v2.'+yr+'.'+nds\n",
    "        #np.save(fin+'.grid',mean_grid_iwps)\n",
    "        #np.save(fin+'.sgrid',mean_grid_swps)\n",
    "\n",
    "mean_grid_iwp /= float(count/(24.0/(de*2)))\n",
    "mean_grid_swp /= float(count/(24.0/(de*2)))\n",
    "zonal_mean_iwp /= float(count)\n",
    "zonal_mean_swp /= float(count)"
   ]
  },
  {
   "cell_type": "code",
   "execution_count": 6,
   "metadata": {
    "collapsed": true
   },
   "outputs": [],
   "source": [
    "# create histogram of IWP\n",
    "#iwpa = np.array(iwpall)\n",
    "binz = [2**x for x in range(-14,5)]\n",
    "\n",
    "#print(iwpa.max(),iwpa.min())\n",
    "#hista, bin_edges  = np.histogram(np.array(iwpall),bins=binz)\n",
    "#histi, bin_edges  = np.histogram(np.array(iwpi),bins=binz)\n",
    "#hists, bin_edges  = np.histogram(np.array(iwps),bins=binz)"
   ]
  },
  {
   "cell_type": "code",
   "execution_count": 7,
   "metadata": {
    "collapsed": true,
    "scrolled": false
   },
   "outputs": [],
   "source": [
    "nd = str(ndays)\n",
    "# dataset name, res (x,y), time res of input, output arrays (grids, zonals), version?, # days\n",
    "#if dn == 'night': hrs = '18to6'\n",
    "#if dn == 'day': hrs = '6to18'\n",
    "fin = 'grids/era5.'+str(nx)+'x.'+str(ny)+'y.'+hrs+'_3hrly.iwp.swp.v2.'+yr+'.'+nd\n",
    "np.save(fin+'.grid',mean_grid_iwp)\n",
    "np.save(fin+'.zonal',zonal_mean_iwp)\n",
    "np.save(fin+'.sgrid',mean_grid_swp)\n",
    "np.save(fin+'.szonal',zonal_mean_swp)"
   ]
  },
  {
   "cell_type": "code",
   "execution_count": 8,
   "metadata": {
    "collapsed": true,
    "scrolled": false
   },
   "outputs": [],
   "source": [
    "#fig = plt.figure()\n",
    "#ax = fig.add_subplot(111)\n",
    "#plt.plot(binz[1:],hista/sum(hista),'r-o',label='SWP+CIWP')\n",
    "#plt.plot(binz[1:],histi/sum(histi),'b-o',label='Cloud ice')\n",
    "#plt.plot(binz[1:],hists/sum(hists),'k-o',label='Snow')\n",
    "#plt.xscale('log')\n",
    "#plt.xlabel(r'$IWP [kg/m^2]$')\n",
    "#plt.ylabel('Fraction of cloudy counts')\n",
    "#plt.title('Oceanic IWP and SWP, '+mon+' ERA5')#dire)\n",
    "#plt.ylim(.005,.16)\n",
    "#plt.legend()\n",
    "#plt.show()\n",
    "#fig.savefig('img/era5.'+mon+'.histo.png')"
   ]
  },
  {
   "cell_type": "code",
   "execution_count": 9,
   "metadata": {},
   "outputs": [
    {
     "ename": "NameError",
     "evalue": "name 'dn' is not defined",
     "output_type": "error",
     "traceback": [
      "\u001b[0;31m---------------------------------------------------------------------------\u001b[0m",
      "\u001b[0;31mNameError\u001b[0m                                 Traceback (most recent call last)",
      "\u001b[0;32m<ipython-input-9-bb00b239d718>\u001b[0m in \u001b[0;36m<module>\u001b[0;34m()\u001b[0m\n\u001b[1;32m     11\u001b[0m \u001b[0mplt\u001b[0m\u001b[0;34m.\u001b[0m\u001b[0mxlabel\u001b[0m\u001b[0;34m(\u001b[0m\u001b[0;34mr'$IWP [kg/m^2]$'\u001b[0m\u001b[0;34m)\u001b[0m\u001b[0;34m\u001b[0m\u001b[0m\n\u001b[1;32m     12\u001b[0m \u001b[0mplt\u001b[0m\u001b[0;34m.\u001b[0m\u001b[0mylabel\u001b[0m\u001b[0;34m(\u001b[0m\u001b[0;34mr'$Latitude [^oN]$'\u001b[0m\u001b[0;34m)\u001b[0m\u001b[0;34m\u001b[0m\u001b[0m\n\u001b[0;32m---> 13\u001b[0;31m \u001b[0mplt\u001b[0m\u001b[0;34m.\u001b[0m\u001b[0mtitle\u001b[0m\u001b[0;34m(\u001b[0m\u001b[0;34m'ERA5 '\u001b[0m\u001b[0;34m+\u001b[0m\u001b[0mdn\u001b[0m\u001b[0;34m+\u001b[0m\u001b[0;34m' 20'\u001b[0m\u001b[0;34m+\u001b[0m\u001b[0myr\u001b[0m\u001b[0;34m+\u001b[0m\u001b[0;34m' zonal means'\u001b[0m\u001b[0;34m)\u001b[0m\u001b[0;34m\u001b[0m\u001b[0m\n\u001b[0m\u001b[1;32m     14\u001b[0m \u001b[0mplt\u001b[0m\u001b[0;34m.\u001b[0m\u001b[0mlegend\u001b[0m\u001b[0;34m(\u001b[0m\u001b[0;34m)\u001b[0m\u001b[0;34m\u001b[0m\u001b[0m\n\u001b[1;32m     15\u001b[0m \u001b[0mplt\u001b[0m\u001b[0;34m.\u001b[0m\u001b[0mshow\u001b[0m\u001b[0;34m(\u001b[0m\u001b[0;34m)\u001b[0m\u001b[0;34m\u001b[0m\u001b[0m\n",
      "\u001b[0;31mNameError\u001b[0m: name 'dn' is not defined"
     ]
    }
   ],
   "source": [
    "# plot zonal means\n",
    "figz = plt.figure(figsize=[7,7])\n",
    "zax = np.linspace(-1*latmax,latmax,ny)\n",
    "#plt.plot(1000*zonal_mean_iwp[::-1]+zonal_mean_swp[::-1],zax,'r-o',label='SWP+CIWP')\n",
    "#plt.plot(1000*zonal_mean_iwp[::-1],zax,'b-o',label='CIWP')\n",
    "#plt.plot(1000*zonal_mean_swp[::-1],zax,'g-o',label='SWP')\n",
    "#plt.plot(1000*(zonal_mean_swp[::-1]+zonal_mean_iwp[::-1]),zax,'k-o',label='CIWP+SWP')\n",
    "plt.plot(zonal_mean_iwp[::-1],zax,'b-o',label='CIWP')\n",
    "plt.plot(zonal_mean_swp[::-1],zax,'g-o',label='SWP')\n",
    "plt.plot((zonal_mean_swp[::-1]+zonal_mean_iwp[::-1]),zax,'k-o',label='CIWP+SWP')\n",
    "plt.xlabel(r'$IWP [kg/m^2]$')\n",
    "plt.ylabel(r'$Latitude [^oN]$')\n",
    "plt.title('ERA5 '+dn+' 20'+yr+' zonal means')\n",
    "plt.legend()\n",
    "plt.show()\n",
    "figz.savefig('img/era5.'+dn+'.20'+yr+'.day.zonal.jpg',dpi=400)"
   ]
  },
  {
   "cell_type": "code",
   "execution_count": null,
   "metadata": {
    "collapsed": true,
    "scrolled": false
   },
   "outputs": [],
   "source": [
    "# plot global mean maps of CIWP/SWP\n",
    "fig1 = plt.figure(figsize=[11,5])\n",
    "print(info(mean_grid_iwp))\n",
    "grdmap(mean_grid_iwp,-180,latmax,.001,0.2,1,'ERA5 '+dn+' 20'+yr+' CIWP mean')#+mon)\n",
    "#grdmap(mean_grid_iwp,lomin=-180,lamin=70,vmin=.001,vmax=0.4,expflag=1,'ERA5 IWP')\n",
    "fig1.savefig('img/era5.20'+yr+'.'+dn+'.ciwp_grid.jpg',dpi=500)\n",
    "fig2 = plt.figure(figsize=[11,5])\n",
    "print(info(mean_grid_swp))\n",
    "grdmap(mean_grid_swp,-180,latmax,.001,0.2,1,'ERA5 '+dn+' 20'+yr+' SWP mean')#+mon)\n",
    "#grdmap(mean_grid_swp,lomin=-180,lamin=70,vmin=.001,vmax=0.4,expflag=1)\n",
    "fig2.savefig('img/era5.20'+yr+'.'+dn+'.swp_grid.jpg',dpi=500)"
   ]
  },
  {
   "cell_type": "code",
   "execution_count": null,
   "metadata": {
    "collapsed": true
   },
   "outputs": [],
   "source": []
  }
 ],
 "metadata": {
  "kernelspec": {
   "display_name": "Python 3",
   "language": "python",
   "name": "python3"
  },
  "language_info": {
   "codemirror_mode": {
    "name": "ipython",
    "version": 3
   },
   "file_extension": ".py",
   "mimetype": "text/x-python",
   "name": "python",
   "nbconvert_exporter": "python",
   "pygments_lexer": "ipython3",
   "version": "3.6.4"
  }
 },
 "nbformat": 4,
 "nbformat_minor": 2
}
