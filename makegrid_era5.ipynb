{
 "cells": [
  {
   "cell_type": "code",
   "execution_count": 1,
   "metadata": {
    "collapsed": true
   },
   "outputs": [],
   "source": [
    "# reading ERA5 3-hourly files, running through a year,\n",
    "#  and outputting a mean grid at its native resolution as downloaded\n",
    "# 2/1/18 fixed bug in calculation of daytime-only zonal means\n",
    "from netCDF4 import Dataset\n",
    "from mpl_toolkits.basemap import Basemap #, cm\n",
    "import glob"
   ]
  },
  {
   "cell_type": "code",
   "execution_count": 2,
   "metadata": {},
   "outputs": [
    {
     "name": "stdout",
     "output_type": "stream",
     "text": [
      "12\n",
      "hrs:  13.5_10.5to16.5\n"
     ]
    }
   ],
   "source": [
    "ecdir = '/home/dudavid/Dendrite/Dendrite/UserAreas/Dave/EC/'\n",
    "yr = '12' # year 20x ## 2015 is the standard for IWP paper\n",
    "#dn = 'night' # day/night flag, new 2/1/18 ---- GOT RID OF THIS AND SUPPPLANTED BY APPROACH BELOW\n",
    "de = 3 # time delta, in hours, around midday/midnight. i.e. 6 means 6-18/18-6, 3 = 9-15/21-3\n",
    "#ctr= 1.5 # local solar time to center on i.e. noon=12, 1:30pm=13.5\n",
    "ctr= 13.5 # local solar time to center on i.e. noon=12, 1:30pm=13.5\n",
    "ts = 3 # time step in hrs of data (cant be changed--downloaded this way)\n",
    "mons = sorted(glob.glob(ecdir+yr+'*/'))\n",
    "print(len(mons))\n",
    "ordr = [11,0,1,2,3,4,5,6,7,8,9,10]\n",
    "mons = [mons[i] for i in ordr]\n",
    "#print(mons) # run in order DJF/MMA/JJA/SON/\n",
    "hrs = str(ctr)+'_'+str(ctr-de)+'to'+str(ctr+de) #'0to24'\n",
    "print('hrs: ',hrs)"
   ]
  },
  {
   "cell_type": "code",
   "execution_count": 3,
   "metadata": {},
   "outputs": [
    {
     "name": "stdout",
     "output_type": "stream",
     "text": [
      "360 nx:  720\n"
     ]
    }
   ],
   "source": [
    "gsize = 0.5 # in degrees, normal grid (downloaded this way. if wanting to change output grid, do elsewhere)\n",
    "latmax= 90  # NS latitude limits of grid (downloaded this way)\n",
    "nx, ny = int(360.0/gsize), int(2.0*latmax/gsize)+1 \n",
    "# EC has points AT lat/lon intersections, so EC data actually -180 to 179.5, -90 to 90\n",
    "mean_grid_iwp = np.zeros([ny, nx])\n",
    "mean_grid_swp = np.zeros([ny, nx])\n",
    "zonal_mean_iwp = np.zeros(ny)\n",
    "zonal_mean_swp = np.zeros(ny)\n",
    "count = 0 # initialize\n",
    "ndays = 0\n",
    "#iwpall = []\n",
    "print(int(nx/2),'nx: ',nx)"
   ]
  },
  {
   "cell_type": "code",
   "execution_count": 4,
   "metadata": {
    "collapsed": true
   },
   "outputs": [],
   "source": [
    "# read in landmask for era5:\n",
    "#lsfile = ecdir+'land0.5deg.nc' # make sure size matches gsize above\n",
    "#lf = Dataset(lsfile,'r')\n",
    "#lmask = np.array(lf['lsm'])[0,:,:] # 0.0 for ocean, 1.0 for land"
   ]
  },
  {
   "cell_type": "code",
   "execution_count": 5,
   "metadata": {
    "scrolled": false
   },
   "outputs": [
    {
     "name": "stdout",
     "output_type": "stream",
     "text": [
      "12\n",
      "starting mon:  /home/dudavid/Dendrite/Dendrite/UserAreas/Dave/EC/1212/\n",
      "histaz [13738299] [1081864 1121266 1288774 1500362 1751027 2182312 2673680 3249922 3426695\n",
      " 3204548 2692414 2049745 1432454  872958  418116  131613   30170    6827\n",
      "    1351]\n",
      "01\n",
      "starting mon:  /home/dudavid/Dendrite/Dendrite/UserAreas/Dave/EC/1201/\n",
      "histaz [14845098] [1058801 1122023 1270438 1470809 1692447 2108785 2571828 3098280 3263668\n",
      " 3047817 2560255 1946982 1374807  847625  410254  130262   27867    5438\n",
      "     912]\n",
      "02\n",
      "starting mon:  /home/dudavid/Dendrite/Dendrite/UserAreas/Dave/EC/1202/\n",
      "histaz [13498065] [ 856136 1107157 1195992 1379677 1667380 2045887 2492405 2957327 3130993\n",
      " 2946035 2471667 1846236 1249061  744221  359920  114503   22463    3889\n",
      "     585]\n",
      "03\n",
      "starting mon:  /home/dudavid/Dendrite/Dendrite/UserAreas/Dave/EC/1203/\n",
      "histaz [14577174] [1053327 1084689 1299532 1452937 1718003 2104894 2552298 3095650 3350201\n",
      " 3135513 2618036 2002873 1390064  852471  411925  126307   23382    4352\n",
      "     771]\n",
      "04\n",
      "starting mon:  /home/dudavid/Dendrite/Dendrite/UserAreas/Dave/EC/1204/\n",
      "histaz [13023345] [ 954198 1125808 1317091 1528368 1795659 2205801 2677470 3188728 3370223\n",
      " 3087303 2560574 1958000 1350078  817115  378126  109071   19478    4510\n",
      "    1040]\n",
      "05\n",
      "starting mon:  /home/dudavid/Dendrite/Dendrite/UserAreas/Dave/EC/1205/\n",
      "histaz [13768742] [ 942891 1140082 1400293 1565776 1837448 2243293 2689275 3227728 3469966\n",
      " 3219964 2629226 1988838 1375180  839604  387135  104421   18717    4692\n",
      "    1127]\n",
      "06\n",
      "starting mon:  /home/dudavid/Dendrite/Dendrite/UserAreas/Dave/EC/1206/\n",
      "histaz [14263491] [1040450 1238647 1277892 1502306 1772797 2135684 2479103 2889523 3125622\n",
      " 2949896 2395331 1793539 1263047  795424  391943  123875   26275    5927\n",
      "    1222]\n",
      "07\n",
      "starting mon:  /home/dudavid/Dendrite/Dendrite/UserAreas/Dave/EC/1207/\n",
      "histaz [15105639] [ 951431 1189961 1344322 1484569 1741328 2133651 2577104 3076695 3324192\n",
      " 3075077 2452858 1837071 1274760  784474  366980  107162   21005    5012\n",
      "    1102]\n",
      "08\n",
      "starting mon:  /home/dudavid/Dendrite/Dendrite/UserAreas/Dave/EC/1208/\n",
      "histaz [15334958] [ 984234 1180707 1264868 1467914 1725615 2120528 2542534 3021950 3279575\n",
      " 3099317 2472631 1810209 1255163  780938  367916  111515   26717    6097\n",
      "    1013]\n",
      "09\n",
      "starting mon:  /home/dudavid/Dendrite/Dendrite/UserAreas/Dave/EC/1209/\n",
      "histaz [14873364] [1167250 1100884 1254767 1415835 1670250 2027866 2468368 2899407 3097791\n",
      " 2892713 2302821 1723273 1234189  793893  393138  122457   26572    6115\n",
      "    1046]\n",
      "10\n",
      "starting mon:  /home/dudavid/Dendrite/Dendrite/UserAreas/Dave/EC/1210/\n",
      "histaz [14438674] [1129299 1252883 1361097 1569674 1792167 2201409 2602125 3101077 3321888\n",
      " 3019006 2427608 1874007 1361749  853161  391050  119902   29132    7098\n",
      "    1390]\n",
      "11\n",
      "starting mon:  /home/dudavid/Dendrite/Dendrite/UserAreas/Dave/EC/1211/\n",
      "histaz [13462916] [ 897135 1070031 1267988 1450481 1690308 2107986 2579406 3152493 3409667\n",
      " 3101725 2553471 1973280 1385621  831705  387794  115648   26332    6655\n",
      "    1349]\n"
     ]
    }
   ],
   "source": [
    "for m in mons:#[0:1]:\n",
    "    mo = m[len(m)-3:len(m)-1]\n",
    "    print(mo)\n",
    "    iwpall = []\n",
    "    #ndays = 0\n",
    "    if mo == '12' or mo == '03' or mo == '06' or mo == '09': #reset for each new season\n",
    "        mean_grid_iwps = np.zeros([ny, nx])\n",
    "        mean_grid_swps = np.zeros([ny, nx])\n",
    "        counts = 0 # initialize\n",
    "        ndayss = 0\n",
    "        if mo=='12': seas = 'DJF'\n",
    "        if mo=='03': seas = 'MAM'\n",
    "        if mo=='06': seas = 'JJA'\n",
    "        if mo=='09': seas = 'SON'\n",
    "        \n",
    "    days = sorted(os.listdir(m)) # all daily files in the month:\n",
    "    print('starting mon: ',m)\n",
    "    for d in days:#[0:1]:\n",
    "        f = Dataset(m+d,'r')\n",
    "        iwp, swp = np.array(f['tciw']), np.array(f['tcsw'])  #\"total column ice/snow water\" in kg/m^2\n",
    "        #iwp[iwp > 0.2] = 0.2\n",
    "        #swp[swp > 1.0] = 1.0 # A TEST FOR V2________ BE CAREFUL IF RUNNING LATER\n",
    "        ndays += 1 # count days processed\n",
    "        ndayss+= 1 # counts days processed\n",
    "        for t in range(np.shape(iwp)[0]):\n",
    "                \n",
    "            subz = ((ctr+12)-t*ts)/24.0 * nx #)*((t*ts)/24.0) #+ nx \n",
    "            sub1, sub2 = int( subz - nx*de/24.0), int( subz + nx*de/24.0)\n",
    "            \n",
    "            if sub1 < 0 and sub2 < 0: sub1, sub2 = sub1+nx, sub2+nx\n",
    "            #print(sub1,sub2)\n",
    "            if sub1 < 0 or sub2 > nx:\n",
    "                if sub1 < 0:  sub1 += nx\n",
    "                if sub2 > nx: sub2 -= nx\n",
    "                #print('oddz: ',sub1,sub2)\n",
    "                iwp[t,:,sub1:sub2], swp[t,:,sub1:sub2] = np.nan, np.nan #for zonal means calc\n",
    "                mean_grid_iwp[:,0:sub2] += iwp[t,:,0:sub2]\n",
    "                mean_grid_swp[:,0:sub2] += swp[t,:,0:sub2]\n",
    "                mean_grid_iwp[:,sub1:nx] += iwp[t,:,sub1:nx]\n",
    "                mean_grid_swp[:,sub1:nx] += swp[t,:,sub1:nx]\n",
    "                mean_grid_iwps[:,0:sub2] += iwp[t,:,0:sub2]\n",
    "                mean_grid_swps[:,0:sub2] += swp[t,:,0:sub2]\n",
    "                mean_grid_iwps[:,sub1:nx] += iwp[t,:,sub1:nx]\n",
    "                mean_grid_swps[:,sub1:nx] += swp[t,:,sub1:nx]\n",
    "                zonal_mean_iwp[:] += np.nanmean(iwp[t,:,:],axis=1) #dont count \n",
    "                zonal_mean_swp[:] += np.nanmean(swp[t,:,:],axis=1) #non-day pts\n",
    "            else:\n",
    "                mean_grid_iwp[:,sub1:sub2] += iwp[t,:,sub1:sub2]\n",
    "                mean_grid_swp[:,sub1:sub2] += swp[t,:,sub1:sub2]\n",
    "                mean_grid_iwps[:,sub1:sub2] += iwp[t,:,sub1:sub2]\n",
    "                mean_grid_swps[:,sub1:sub2] += swp[t,:,sub1:sub2]\n",
    "                zonal_mean_iwp[:] += iwp[t,:,sub1:sub2].mean(axis=1)\n",
    "                zonal_mean_swp[:] += swp[t,:,sub1:sub2].mean(axis=1)\n",
    "                \n",
    "            count += 1\n",
    "            counts += 1\n",
    "            \n",
    "            # new feb 2018, taking a-train timed slices for a histogram:\n",
    "            #totice =   #### actually, just all time steps for now!\n",
    "            #totice = np.reshape(iwp[t,:,:],[ny,nx])\n",
    "            totice = np.reshape(iwp[t,:,:] + swp[t,:,:],[ny,nx])\n",
    "            total_ice = np.reshape(totice[60:300,:],nx*240) # just 60NS into 1D \n",
    "            iwpall.extend(total_ice)\n",
    "            ##iwpi.extend(np.reshape(iwp[t,:,:],[ny,nx]))#[lmask==0])\n",
    "            ##iwps.extend(np.reshape(swp[t,:,:],[ny,nx]))#[lmask==0])\n",
    "            \n",
    "    \n",
    "    nds = str(ndays)\n",
    "    binz = [2**x for x in range(-14,6)]\n",
    "    binzz = [-.001,2**(-14)]\n",
    "    hista, bin_edges  = np.histogram(np.array(iwpall),bins=binz)\n",
    "    histaz, bin_edges = np.histogram(np.array(iwpall),bins=binzz)\n",
    "    print('histaz',histaz,hista)\n",
    "    fin = 'grids/era5.histo.all.v2.'+yr+mo+'.'+nds\n",
    "    #fin = 'grids/era5.histo.all.ciwonly.v2.'+yr+mo+'.'+nds\n",
    "    outz = np.append(histaz,hista)\n",
    "    np.save(fin,outz) #hista)\n",
    "            \n",
    "    # if wanting seasonal total/count grids, uncomment save statements below\n",
    "    if mo == '02' or mo == '05' or mo == '08' or mo == '11': #write out at end of each 3mo season\n",
    "        mean_grid_iwps /= float(counts/(24.0/(de*2)))\n",
    "        mean_grid_swps /= float(counts/(24.0/(de*2)))\n",
    "        nds = str(ndayss)\n",
    "        fin = 'grids/era5.'+seas+'.'+str(nx)+'x.'+str(ny)+'y.'+hrs+'_3hrly.iwp.swp.v1.'+yr+'.'+nds\n",
    "        #fin = 'grids/era5.'+seas+'.'+str(nx)+'x.'+str(ny)+'y.'+hrs+'_3hrly.iwp.swp.v2.'+yr+'.'+nds\n",
    "        #np.save(fin+'.grid',mean_grid_iwps)\n",
    "        #np.save(fin+'.sgrid',mean_grid_swps)\n",
    "\n",
    "mean_grid_iwp /= float(count/(24.0/(de*2)))\n",
    "mean_grid_swp /= float(count/(24.0/(de*2)))\n",
    "zonal_mean_iwp /= float(count)\n",
    "zonal_mean_swp /= float(count)"
   ]
  },
  {
   "cell_type": "code",
   "execution_count": 6,
   "metadata": {
    "collapsed": true
   },
   "outputs": [],
   "source": [
    "# create histogram of IWP\n",
    "#iwpa = np.array(iwpall)\n",
    "binz = [2**x for x in range(-14,5)]\n",
    "\n",
    "#print(iwpa.max(),iwpa.min())\n",
    "#hista, bin_edges  = np.histogram(np.array(iwpall),bins=binz)\n",
    "#histi, bin_edges  = np.histogram(np.array(iwpi),bins=binz)\n",
    "#hists, bin_edges  = np.histogram(np.array(iwps),bins=binz)"
   ]
  },
  {
   "cell_type": "code",
   "execution_count": 7,
   "metadata": {
    "collapsed": true,
    "scrolled": false
   },
   "outputs": [],
   "source": [
    "nd = str(ndays)\n",
    "# dataset name, res (x,y), time res of input, output arrays (grids, zonals), version?, # days\n",
    "#if dn == 'night': hrs = '18to6'\n",
    "#if dn == 'day': hrs = '6to18'\n",
    "fin = 'grids/era5.'+str(nx)+'x.'+str(ny)+'y.'+hrs+'_3hrly.iwp.swp.v2.'+yr+'.'+nd\n",
    "np.save(fin+'.grid',mean_grid_iwp)\n",
    "np.save(fin+'.zonal',zonal_mean_iwp)\n",
    "np.save(fin+'.sgrid',mean_grid_swp)\n",
    "np.save(fin+'.szonal',zonal_mean_swp)"
   ]
  },
  {
   "cell_type": "code",
   "execution_count": 8,
   "metadata": {
    "collapsed": true,
    "scrolled": false
   },
   "outputs": [],
   "source": [
    "#fig = plt.figure()\n",
    "#ax = fig.add_subplot(111)\n",
    "#plt.plot(binz[1:],hista/sum(hista),'r-o',label='SWP+CIWP')\n",
    "#plt.plot(binz[1:],histi/sum(histi),'b-o',label='Cloud ice')\n",
    "#plt.plot(binz[1:],hists/sum(hists),'k-o',label='Snow')\n",
    "#plt.xscale('log')\n",
    "#plt.xlabel(r'$IWP [kg/m^2]$')\n",
    "#plt.ylabel('Fraction of cloudy counts')\n",
    "#plt.title('Oceanic IWP and SWP, '+mon+' ERA5')#dire)\n",
    "#plt.ylim(.005,.16)\n",
    "#plt.legend()\n",
    "#plt.show()\n",
    "#fig.savefig('img/era5.'+mon+'.histo.png')"
   ]
  },
  {
   "cell_type": "code",
   "execution_count": 9,
   "metadata": {},
   "outputs": [
    {
     "ename": "NameError",
     "evalue": "name 'dn' is not defined",
     "output_type": "error",
     "traceback": [
      "\u001b[0;31m---------------------------------------------------------------------------\u001b[0m",
      "\u001b[0;31mNameError\u001b[0m                                 Traceback (most recent call last)",
      "\u001b[0;32m<ipython-input-9-bb00b239d718>\u001b[0m in \u001b[0;36m<module>\u001b[0;34m()\u001b[0m\n\u001b[1;32m     11\u001b[0m \u001b[0mplt\u001b[0m\u001b[0;34m.\u001b[0m\u001b[0mxlabel\u001b[0m\u001b[0;34m(\u001b[0m\u001b[0;34mr'$IWP [kg/m^2]$'\u001b[0m\u001b[0;34m)\u001b[0m\u001b[0;34m\u001b[0m\u001b[0m\n\u001b[1;32m     12\u001b[0m \u001b[0mplt\u001b[0m\u001b[0;34m.\u001b[0m\u001b[0mylabel\u001b[0m\u001b[0;34m(\u001b[0m\u001b[0;34mr'$Latitude [^oN]$'\u001b[0m\u001b[0;34m)\u001b[0m\u001b[0;34m\u001b[0m\u001b[0m\n\u001b[0;32m---> 13\u001b[0;31m \u001b[0mplt\u001b[0m\u001b[0;34m.\u001b[0m\u001b[0mtitle\u001b[0m\u001b[0;34m(\u001b[0m\u001b[0;34m'ERA5 '\u001b[0m\u001b[0;34m+\u001b[0m\u001b[0mdn\u001b[0m\u001b[0;34m+\u001b[0m\u001b[0;34m' 20'\u001b[0m\u001b[0;34m+\u001b[0m\u001b[0myr\u001b[0m\u001b[0;34m+\u001b[0m\u001b[0;34m' zonal means'\u001b[0m\u001b[0;34m)\u001b[0m\u001b[0;34m\u001b[0m\u001b[0m\n\u001b[0m\u001b[1;32m     14\u001b[0m \u001b[0mplt\u001b[0m\u001b[0;34m.\u001b[0m\u001b[0mlegend\u001b[0m\u001b[0;34m(\u001b[0m\u001b[0;34m)\u001b[0m\u001b[0;34m\u001b[0m\u001b[0m\n\u001b[1;32m     15\u001b[0m \u001b[0mplt\u001b[0m\u001b[0;34m.\u001b[0m\u001b[0mshow\u001b[0m\u001b[0;34m(\u001b[0m\u001b[0;34m)\u001b[0m\u001b[0;34m\u001b[0m\u001b[0m\n",
      "\u001b[0;31mNameError\u001b[0m: name 'dn' is not defined"
     ]
    }
   ],
   "source": [
    "# plot zonal means\n",
    "figz = plt.figure(figsize=[7,7])\n",
    "zax = np.linspace(-1*latmax,latmax,ny)\n",
    "#plt.plot(1000*zonal_mean_iwp[::-1]+zonal_mean_swp[::-1],zax,'r-o',label='SWP+CIWP')\n",
    "#plt.plot(1000*zonal_mean_iwp[::-1],zax,'b-o',label='CIWP')\n",
    "#plt.plot(1000*zonal_mean_swp[::-1],zax,'g-o',label='SWP')\n",
    "#plt.plot(1000*(zonal_mean_swp[::-1]+zonal_mean_iwp[::-1]),zax,'k-o',label='CIWP+SWP')\n",
    "plt.plot(zonal_mean_iwp[::-1],zax,'b-o',label='CIWP')\n",
    "plt.plot(zonal_mean_swp[::-1],zax,'g-o',label='SWP')\n",
    "plt.plot((zonal_mean_swp[::-1]+zonal_mean_iwp[::-1]),zax,'k-o',label='CIWP+SWP')\n",
    "plt.xlabel(r'$IWP [kg/m^2]$')\n",
    "plt.ylabel(r'$Latitude [^oN]$')\n",
    "plt.title('ERA5 '+dn+' 20'+yr+' zonal means')\n",
    "plt.legend()\n",
    "plt.show()\n",
    "figz.savefig('img/era5.'+dn+'.20'+yr+'.day.zonal.jpg',dpi=400)"
   ]
  },
  {
   "cell_type": "code",
   "execution_count": null,
   "metadata": {
    "collapsed": true,
    "scrolled": false
   },
   "outputs": [],
   "source": [
    "# plot global mean maps of CIWP/SWP\n",
    "fig1 = plt.figure(figsize=[11,5])\n",
    "print(info(mean_grid_iwp))\n",
    "grdmap(mean_grid_iwp,-180,latmax,.001,0.2,1,'ERA5 '+dn+' 20'+yr+' CIWP mean')#+mon)\n",
    "#grdmap(mean_grid_iwp,lomin=-180,lamin=70,vmin=.001,vmax=0.4,expflag=1,'ERA5 IWP')\n",
    "fig1.savefig('img/era5.20'+yr+'.'+dn+'.ciwp_grid.jpg',dpi=500)\n",
    "fig2 = plt.figure(figsize=[11,5])\n",
    "print(info(mean_grid_swp))\n",
    "grdmap(mean_grid_swp,-180,latmax,.001,0.2,1,'ERA5 '+dn+' 20'+yr+' SWP mean')#+mon)\n",
    "#grdmap(mean_grid_swp,lomin=-180,lamin=70,vmin=.001,vmax=0.4,expflag=1)\n",
    "fig2.savefig('img/era5.20'+yr+'.'+dn+'.swp_grid.jpg',dpi=500)"
   ]
  },
  {
   "cell_type": "code",
   "execution_count": null,
   "metadata": {
    "collapsed": true
   },
   "outputs": [],
   "source": []
  }
 ],
 "metadata": {
  "kernelspec": {
   "display_name": "Python 3",
   "language": "python",
   "name": "python3"
  },
  "language_info": {
   "codemirror_mode": {
    "name": "ipython",
    "version": 3
   },
   "file_extension": ".py",
   "mimetype": "text/x-python",
   "name": "python",
   "nbconvert_exporter": "python",
   "pygments_lexer": "ipython3",
   "version": "3.6.5"
  }
 },
 "nbformat": 4,
 "nbformat_minor": 2
}
