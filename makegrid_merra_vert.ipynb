{
 "cells": [
  {
   "cell_type": "code",
   "execution_count": 1,
   "metadata": {
    "collapsed": true
   },
   "outputs": [],
   "source": [
    "# reading ERA5 vertical profile data, running through a year,\n",
    "#  and outputting a mean grid for each of 3 longitude 'slices' of 45deg width\n",
    "# 10/1/18 fixed bug in calculation of daytime-only zonal means\n",
    "# updated 11/1 to remove 'interpolated' values below surface, using sfc pressure\n",
    "from netCDF4 import Dataset\n",
    "import glob"
   ]
  },
  {
   "cell_type": "code",
   "execution_count": 2,
   "metadata": {},
   "outputs": [
    {
     "name": "stdout",
     "output_type": "stream",
     "text": [
      "12\n",
      "[98750.0, 96250.0, 93750.0, 91250.0, 88750.0, 86250.0, 83750.0, 81250.0, 78750.0, 76250.0, 72500.0, 67500.0, 62500.0, 57500.0, 52500.0, 47500.0, 42500.0, 37500.0, 32500.0, 27500.0, 22500.0, 17500.0, 12500.0]\n",
      "24 24 23 24\n"
     ]
    }
   ],
   "source": [
    "ecdir = '/home/dudavid/Dendrite/Dendrite/UserAreas/Dave/MERRA/'\n",
    "yr = '15' # year 20x\n",
    "#dn = 'night' # day/night flag, new 2/1/18\n",
    "slices = ['0E_12-15Z','90W_18-21Z','105E_3-6Z']\n",
    "#de = 6 # time delta, in hours, around midday/midnight. i.e. 6 means 6-18/18-6, 3 = 9-15/21-3\n",
    "#ctr= 12 # local solar time to center on i.e. noon=12, 1:30pm=13.5\n",
    "ts = 3 # time step in hrs of data (cant be changed--downloaded this way)\n",
    "mons = sorted(glob.glob(ecdir+'vert'+yr+'*/')) # the vertical profile data are kept in separate folders\n",
    "print(len(mons))\n",
    "#ordr = [11,0,1,2,3,4,5,6,7,8,9,10]\n",
    "#mons = [mons[i] for i in ordr]\n",
    "#print(mons) # run in order DJF/MMA/JJA/SON/\n",
    "#hrs = str(ctr)+'_'+str(ctr-de)+'to'+str(ctr+de) #'0to24'\n",
    "\n",
    "nz = 23 # common p levels from ERA5/MERRA and subset from DARDAR\n",
    "#plvs = [1013,1000,975,950,925,900,875,850,825,800,775,750,700,650,600,550,\\\n",
    "plvs = [1000,975,950,925,900,875,850,825,800,775,750,700,650,600,550,\\\n",
    "        500,450,400,350,300,250,200,150,100]#[::-1]\n",
    "plvs = [l*100.0 for l in plvs] # into Pa\n",
    "dp = [plvs[i]-plvs[i+1] for i in range(nz)]#[::-1] # hPa to Pa, reversed to match EC order below\n",
    "#print(dp) # flipped from relative to plvs\n",
    "#ecsubs = [0,1,2,3,4,5,6,7,8,9,10,11,12,13,14,15,16,17,18,19,20,22,24,25]\n",
    "mrsubs = [0,1,2,3,4,5,6,7,8,9,10,12,13,14,15,16,17,18,19,20,21,22,23,24]\n",
    "#MERRA HAS: 1000,  975,  950,  925,  900,  875,  850,  825,  800,  775,(725),  750,\n",
    "#        700,  650,  600,  550,  500,  450,  400,  350,  300,  250,\n",
    "#        200,  150,  100] # for reference, reverse order\n",
    "zees = [111,323,540,762,988,1220,1457,1700,1949,2204,2466,3012,3590,4206,4864,\\\n",
    "        5573,6343,7184,8116,9162,10361,11782,13606,16000]\n",
    "pavg = [(plvs[i+1]+plvs[i])*.5 for i in range(len(plvs)-1) ]\n",
    "print(pavg)\n",
    "# altitude values back-calculated using same int'l standard atmosphere (isa.py) at above p levels\n",
    "dz = [zees[i+1]-zees[i] for i in range(len(zees)-1)]\n",
    "print(len(plvs),len(zees),nz,len(mrsubs))"
   ]
  },
  {
   "cell_type": "code",
   "execution_count": 3,
   "metadata": {
    "collapsed": true
   },
   "outputs": [],
   "source": [
    "gsize = 2.5 # in degrees, normal grid (downloaded this way. if wanting to change output grid, do elsewhere)\n",
    "# downloaded at much coarser grid for comparison to DARDAR\n",
    "latmax= 90  # NS latitude limits of grid (downloaded this way)\n",
    "nx, ny = int(360.0/gsize), int(2.0*latmax/gsize)+1 \n",
    "nx = 19 # overriden because only taking 3hr slice of longitudes, 45/360\n",
    "nnx = 3 # just means of slices?\n",
    "# EC has points AT lat/lon intersections, so EC data actually -180 to 179.5, -90 to 90\n",
    "mean_grid_iwc = np.zeros([nz, ny, nnx])\n",
    "#mean_grid_swc = np.zeros([nz, ny, nnx])\n",
    "#zonal_mean_iwp = np.zeros(ny)\n",
    "#zonal_mean_swp = np.zeros(ny)\n",
    "count = 0 # initialize\n",
    "ndays = 0\n",
    "#iwpall = []"
   ]
  },
  {
   "cell_type": "code",
   "execution_count": 4,
   "metadata": {
    "scrolled": true
   },
   "outputs": [
    {
     "name": "stdout",
     "output_type": "stream",
     "text": [
      "starting mon:  /home/dudavid/Dendrite/Dendrite/UserAreas/Dave/MERRA/vert1501/\n"
     ]
    },
    {
     "name": "stderr",
     "output_type": "stream",
     "text": [
      "/home/dudavid/anaconda3/lib/python3.6/site-packages/ipykernel_launcher.py:30: RuntimeWarning: Mean of empty slice\n"
     ]
    },
    {
     "name": "stdout",
     "output_type": "stream",
     "text": [
      "starting mon:  /home/dudavid/Dendrite/Dendrite/UserAreas/Dave/MERRA/vert1502/\n",
      "starting mon:  /home/dudavid/Dendrite/Dendrite/UserAreas/Dave/MERRA/vert1503/\n",
      "starting mon:  /home/dudavid/Dendrite/Dendrite/UserAreas/Dave/MERRA/vert1504/\n",
      "starting mon:  /home/dudavid/Dendrite/Dendrite/UserAreas/Dave/MERRA/vert1505/\n",
      "starting mon:  /home/dudavid/Dendrite/Dendrite/UserAreas/Dave/MERRA/vert1506/\n",
      "starting mon:  /home/dudavid/Dendrite/Dendrite/UserAreas/Dave/MERRA/vert1507/\n",
      "starting mon:  /home/dudavid/Dendrite/Dendrite/UserAreas/Dave/MERRA/vert1508/\n",
      "starting mon:  /home/dudavid/Dendrite/Dendrite/UserAreas/Dave/MERRA/vert1509/\n",
      "starting mon:  /home/dudavid/Dendrite/Dendrite/UserAreas/Dave/MERRA/vert1510/\n",
      "starting mon:  /home/dudavid/Dendrite/Dendrite/UserAreas/Dave/MERRA/vert1511/\n",
      "starting mon:  /home/dudavid/Dendrite/Dendrite/UserAreas/Dave/MERRA/vert1512/\n"
     ]
    },
    {
     "name": "stderr",
     "output_type": "stream",
     "text": [
      "/home/dudavid/anaconda3/lib/python3.6/site-packages/ipykernel_launcher.py:50: RuntimeWarning: invalid value encountered in less\n"
     ]
    }
   ],
   "source": [
    "avg_iw, avg_sw = np.zeros([nz,ny,nnx]), np.zeros([nz,ny,nnx])\n",
    "for m in mons:#[0:2]:\n",
    "    mo = m[len(m)-3:len(m)-1]\n",
    "    #print(mo)\n",
    "    #if mo == '12' or mo == '03' or mo == '06' or mo == '09': #reset for each new season\n",
    "    #    mean_grid_iwps = np.zeros([ny, nx])\n",
    "    #    mean_grid_swps = np.zeros([ny, nx])\n",
    "    #    counts = 0 # initialize\n",
    "    #    ndayss = 0\n",
    "    #    if mo=='12': seas = 'DJF'\n",
    "    #    if mo=='03': seas = 'MAM'\n",
    "    #    if mo=='06': seas = 'JJA'\n",
    "    #    if mo=='09': seas = 'SON'\n",
    "        \n",
    "    nd = int(len(sorted(os.listdir(m)))/3) # all daily files in the month:\n",
    "    print('starting mon: ',m)\n",
    "    for d in range(nd):#[0:1]:\n",
    "        da = str(d+1).rjust(2,'0')\n",
    "        for fi in range(3):\n",
    "            file = 'MERRA2_400.inst3_3d_asm_Np.20'+yr+mo+da+'.'+slices[fi]+'.nc4'\n",
    "            f = Dataset(m+file,'r')\n",
    "            #pfile = 'era5.sp.90NS.'+da+'.'+mo+'.20'+yr+'.2.5deg.'+slices[fi]+'.nc' #USING ERA5 Psfc\n",
    "            #pf = Dataset(ecdir+'vert_sp'+yr+mo+'/'+pfile,'r')\n",
    "            #sp = np.mean(pf['sp'][:],axis=0)[:,:] # mean of time dim, now [ny,nx]\n",
    "            iwc = f['QI'][:]  #\"specific ice/snow water content\" in kg/kg\n",
    "            iwc[iwc > 1e12] = np.nan # set missing values (1e15) to nan\n",
    "            #swc[swc < 1e-12] = 0.0\n",
    "            # arrays are [2,26,73,19]. first average first (time) dimension:\n",
    "            #iwc, swc = np.mean(iwc,axis=0)[ecsubs,:,:], np.mean(swc,axis=0)[ecsubs,:,:]\n",
    "            iwc = np.nanmean(iwc,axis=0)[:,:,:]\n",
    "            \n",
    "            # convert from specific wc to mixing ratio and into g/m^3\n",
    "            iwc_mr = iwc #np.zeros([nz,ny,nx]), np.zeros([nz,ny,nx])\n",
    "            #iwc_mr[iwc > 0] = 1.0/(1/iwc[iwc > 0]-1) *1000.0 # convert to mixing ratio\n",
    "            #swc_mr[swc > 0] = 1.0/(1/swc[swc > 0]-1) *1000.0 #  [from kg/kg to g/kg]\n",
    "            iw = np.zeros([nz,ny])\n",
    "            for z in range(nz): \n",
    "                tempiw = (iwc_mr[z+1,:,:]+iwc_mr[z,:,:])*.5 * dp[z]/9.81 / dz[z]\n",
    "                #tempiw[sp < plvs[z+1]] = np.nan ##set to nan, don't include in lat mean \n",
    "                iw[z,:] = np.nanmean(tempiw, axis=1)\n",
    "                # UNITS:  g/m^2 = (s^2/m)[1/g] * (g/kg)[MR] * (kg/m*s^2)[dP] --P in Pa\n",
    "                #  THEN multiply by dz [m] to get g/m^3\n",
    "                # lastly, set to NAN any lat band means that use sub-sfc p levels:\n",
    "                \n",
    "            avg_iw[:,:,fi] += iw[:,:]\n",
    "        ndays += 1 # count days processed\n",
    "            \n",
    "for sl in range(3):\n",
    "    mean_grid_iwc[:,:,sl] = 1e6*avg_iw[:,:,sl]/float(ndays) #convert to mg/m^3\n",
    "mean_grid_iwc[mean_grid_iwc < 0] = 0.0\n",
    "#zonal_mean_iwp /= float(count)"
   ]
  },
  {
   "cell_type": "code",
   "execution_count": 7,
   "metadata": {},
   "outputs": [
    {
     "name": "stdout",
     "output_type": "stream",
     "text": [
      "[0.0, 15.878377924738755, 0.93462453848305349, 1.5410733292300072]\n"
     ]
    },
    {
     "name": "stderr",
     "output_type": "stream",
     "text": [
      "/home/dudavid/src/pyco/dmap.py:137: RuntimeWarning: invalid value encountered in less_equal\n",
      "  mask = grid <= lowval\n",
      "/home/dudavid/src/pyco/dmap.py:139: RuntimeWarning: invalid value encountered in greater_equal\n",
      "  maskh = grid >= hival\n",
      "/home/dudavid/anaconda3/lib/python3.6/site-packages/matplotlib/colors.py:1012: RuntimeWarning: invalid value encountered in less_equal\n",
      "  mask |= resdat <= 0\n"
     ]
    },
    {
     "data": {
      "image/png": "[encoded data removed]",
      "text/plain": [
       "<matplotlib.figure.Figure at 0x7f38d566e2b0>"
      ]
     },
     "metadata": {},
     "output_type": "display_data"
    },
    {
     "data": {
      "image/png": "[encoded data removed]",
      "text/plain": [
       "<matplotlib.figure.Figure at 0x7f38e12fb668>"
      ]
     },
     "metadata": {},
     "output_type": "display_data"
    },
    {
     "data": {
      "image/png": "[encoded data removed]",
      "text/plain": [
       "<matplotlib.figure.Figure at 0x7f38d5740f60>"
      ]
     },
     "metadata": {},
     "output_type": "display_data"
    }
   ],
   "source": [
    "print(info(mean_grid_iwc))\n",
    "#print(mean_grid_iwc[:,ny-24,1])\n",
    "#print(mean_grid_iwc[1,:,1])\n",
    "#mean_grid_iwc[mean_grid_iwc != mean_grid_iwc] = 0.0\n",
    "ml1,ml2=-65,65 #90,90\n",
    "z1,z2 = 0,16\n",
    "f11 = plt.figure(figsize=[13,5])\n",
    "s1,s2 = 10,ny-10 #0,ny\n",
    "grdplt((mean_grid_iwc[:,s1:s2,0]),ml1,ml2,z1,z2,.01,20,1,0,0,slices[0],'iwc [mg/m^3]')\n",
    "f21 = plt.figure(figsize=[13,5])\n",
    "grdplt((mean_grid_iwc[:,s1:s2,1]),ml1,ml2,z1,z2,.01,20,1,0,0,slices[1],'iwc [mg/m^3]')\n",
    "f31 = plt.figure(figsize=[13,5])\n",
    "grdplt((mean_grid_iwc[:,s1:s2,2]),ml1,ml2,z1,z2,.01,20,1,0,0,slices[2],'iwc [mg/m^3]')"
   ]
  },
  {
   "cell_type": "code",
   "execution_count": 8,
   "metadata": {
    "collapsed": true,
    "scrolled": false
   },
   "outputs": [],
   "source": [
    "nds = str(ndays)\n",
    "# dataset name, res (x,y), time res of input, output arrays (grids, zonals), version?, # days\n",
    "#print('hrs: ',hrs)\n",
    "#if dn == 'night': hrs = '18to6'\n",
    "#if dn == 'day': hrs = '6to18'\n",
    "fin = 'grids/merra.vert.3.'+str(ny)+'y.13.5LST.iwp.v2.'+yr+'.'+nds\n",
    "np.save(fin+'.grid',mean_grid_iwc)\n",
    "#np.save(fin+'.zonal',zonal_mean_iwp)\n",
    "#np.save(fin+'.sgrid',mean_grid_swc)\n",
    "#np.save(fin+'.szonal',zonal_mean_swp)"
   ]
  },
  {
   "cell_type": "code",
   "execution_count": null,
   "metadata": {
    "collapsed": true
   },
   "outputs": [],
   "source": []
  }
 ],
 "metadata": {
  "kernelspec": {
   "display_name": "Python 3",
   "language": "python",
   "name": "python3"
  },
  "language_info": {
   "codemirror_mode": {
    "name": "ipython",
    "version": 3
   },
   "file_extension": ".py",
   "mimetype": "text/x-python",
   "name": "python",
   "nbconvert_exporter": "python",
   "pygments_lexer": "ipython3",
   "version": "3.6.4"
  }
 },
 "nbformat": 4,
 "nbformat_minor": 2
}
