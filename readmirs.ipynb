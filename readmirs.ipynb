{
 "cells": [
  {
   "cell_type": "code",
   "execution_count": 3,
   "metadata": {
    "collapsed": true
   },
   "outputs": [],
   "source": [
    "# reading in MIRS L3 data\n",
    "from netCDF4 import Dataset\n",
    "import numpy as np\n",
    "\n",
    "paf = '/home/dudavid/Dendrite/others/'\n",
    "file = paf+'NPR-MIRS-IMG_CMAP_v11r2_gpm_D2017213.nc'\n",
    "f = Dataset(file)\n",
    "gwp_asc, gwp_des = f['Asc_GWP'], f['Des_GWP'] #should be 1440x720 grids\n",
    "# note: an IWP field does exist, but should be empty (as are many fields)!\n",
    "alo, ala = f['Asc_lon'], f['Asc_lat']\n",
    "dlo, dla = f['Des_lon'], f['Des_lat']\n",
    "gwpa = np.array(gwp_asc)"
   ]
  },
  {
   "cell_type": "code",
   "execution_count": 2,
   "metadata": {},
   "outputs": [],
   "source": [
    "#gwpa.max()\n",
    "#for name in f.ncattrs():\n",
    "#    print getattr(rootgrp,name)"
   ]
  },
  {
   "cell_type": "code",
   "execution_count": null,
   "metadata": {
    "collapsed": true
   },
   "outputs": [],
   "source": []
  },
  {
   "cell_type": "code",
   "execution_count": null,
   "metadata": {
    "collapsed": true
   },
   "outputs": [],
   "source": []
  }
 ],
 "metadata": {
  "kernelspec": {
   "display_name": "Python 3",
   "language": "python",
   "name": "python3"
  },
  "language_info": {
   "codemirror_mode": {
    "name": "ipython",
    "version": 3
   },
   "file_extension": ".py",
   "mimetype": "text/x-python",
   "name": "python",
   "nbconvert_exporter": "python",
   "pygments_lexer": "ipython3",
   "version": "3.6.3"
  }
 },
 "nbformat": 4,
 "nbformat_minor": 2
}
