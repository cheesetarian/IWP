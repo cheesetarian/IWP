{
 "cells": [
  {
   "cell_type": "code",
   "execution_count": 1,
   "metadata": {
    "collapsed": true
   },
   "outputs": [],
   "source": [
    "# example for reading DARDAR .h5 data files,\n",
    "#  and putting multiple orbits onto a global quarter degree grid\n",
    "import h5py\n",
    "from mpl_toolkits.basemap import Basemap, cm\n",
    "import numpy as np\n",
    "import matplotlib.pyplot as plt\n",
    "import os\n",
    "#from os import listdir"
   ]
  },
  {
   "cell_type": "code",
   "execution_count": null,
   "metadata": {
    "collapsed": true
   },
   "outputs": [],
   "source": [
    "#dirt = '/home/dudavid/Dendrite/DAR/'\n",
    "dirt = '/home/dudavid/Dendrite/Dendrite/SatData/DARDAR/2008/11/' # one day as example\n",
    "#dirt = '/home/dudavid/Dendrite/Dendrite/SatData/DARDAR/2008/11/25/' # one day as example\n",
    "#files = os.listdir(dirt)\n",
    "days = os.listdir(dirt)\n",
    "iwpall,lata,dna,dmask, iwpallb,iwpalls = [],[],[],[], [],[]\n",
    "#iwpallb,latab,dna,dmask = [],[],[],[]\n",
    "startlat = 70.0 # abs value of NS boundaries, should match with ny below\n",
    "gsize = 1.0 # grid size in degree\n",
    "nx, ny = int(360/gsize), int(startlat*2/gsize)\n",
    "iwpg, iwpgc = np.zeros([ny,nx]), np.zeros([ny,nx]) # total,count\n",
    "iwpgb, iwpgcb= np.zeros([ny,nx]),np.zeros([ny,nx]) # total,count\n",
    "\n",
    "# try doing 6 pixel long average of DARDAR data\n",
    "nsmo = 3 # double this add 1, so 7"
   ]
  },
  {
   "cell_type": "code",
   "execution_count": null,
   "metadata": {
    "scrolled": false
   },
   "outputs": [
    {
     "name": "stdout",
     "output_type": "stream",
     "text": [
      "DARDAR-CLOUD_v2.1.1_2008306010631_13364.h5 0\n",
      "DARDAR-CLOUD_v2.1.1_2008307001055_13378.h5 1\n",
      "DARDAR-CLOUD_v2.1.1_2008308005412_13393.h5 2\n",
      "DARDAR-CLOUD_v2.1.1_2008309013730_13408.h5 3\n",
      "DARDAR-CLOUD_v2.1.1_2008310004154_13422.h5 4\n",
      "DARDAR-CLOUD_v2.1.1_2008311012511_13437.h5 5\n",
      "DARDAR-CLOUD_v2.1.1_2008312002935_13451.h5 6\n",
      "DARDAR-CLOUD_v2.1.1_2008313011252_13466.h5 7\n",
      "DARDAR-CLOUD_v2.1.1_2008314001717_13480.h5 8\n",
      "DARDAR-CLOUD_v2.1.1_2008315010034_13495.h5 9\n",
      "DARDAR-CLOUD_v2.1.1_2008316000458_13509.h5 10\n",
      "DARDAR-CLOUD_v2.1.1_2008317004815_13524.h5 11\n",
      "DARDAR-CLOUD_v2.1.1_2008318013132_13539.h5 12\n",
      "DARDAR-CLOUD_v2.1.1_2008319003556_13553.h5 13\n",
      "DARDAR-CLOUD_v2.1.1_2008320011914_13568.h5 14\n",
      "DARDAR-CLOUD_v2.1.1_2008321002338_13582.h5 15\n",
      "DARDAR-CLOUD_v2.1.1_2008322010655_13597.h5 16\n",
      "DARDAR-CLOUD_v2.1.1_2008323001119_13611.h5 17\n",
      "DARDAR-CLOUD_v2.1.1_2008324005436_13626.h5 18\n",
      "DARDAR-CLOUD_v2.1.1_2008325013753_13641.h5 19\n",
      "DARDAR-CLOUD_v2.1.1_2008326004217_13655.h5 20\n",
      "DARDAR-CLOUD_v2.1.1_2008327012534_13670.h5 21\n",
      "DARDAR-CLOUD_v2.1.1_2008328002957_13684.h5 22\n"
     ]
    }
   ],
   "source": [
    "for d in range(len(days)):\n",
    "#for d in range(3):\n",
    "    files = os.listdir(dirt+days[d])\n",
    "    print(files[0],d)\n",
    "    #for fix in range(2):\n",
    "    for fix in range(len(files)):\n",
    "        #print(files[fix])\n",
    "        file = dirt+days[d]+'/'+files[fix]\n",
    "\n",
    "        f = h5py.File(file,'r')\n",
    "        iw = np.array(f['iwc']) # IWC in kg/m^3\n",
    "        flag = np.array(f['land_water_mask'])\n",
    "        # mask is from calipso flags where:\n",
    "        # (http://www.icare.univ-lille1.fr/projects_data/dardar/docs/varcloud-algorithm_description-v1.0.pdf)\n",
    "        #  0=shallow ocean 1=land 2=coastlines 3=shallow inland water 4=intermittent water \n",
    "        #  5=deep inland water 6=coastal ocean 7=deep ocean\n",
    "        hgt = np.array(f['height']) #height above sea level in m [436]\n",
    "        hmask,dz = [], []\n",
    "        for z in range(len(hgt)):\n",
    "            if hgt[z]>=0 and hgt[z]<20000:  hmask.append(z)\n",
    "        #        dz.append(hgt[z]-hgt[z+1]) #these are all 60m!\n",
    "        mask = flag > 4\n",
    "        iwc = iw[mask,:] # just profiles over ocean (for now)\n",
    "        \n",
    "        dmsk = np.array(f['DARMASK_Simplified_Categorization'])[mask] #as follows (same source doc):\n",
    "        # -9 ground, -1 dunno, 0 clear, 1 ice, 2 ice+supercooled, 3 liquid (warm),\n",
    "        #  4 supercooled, 5 rain, 6 aerosol, 7 maybe insects, 8 stratospheric feature\n",
    "        lat = np.array(f['latitude'])[mask]\n",
    "        lon = np.array(f['longitude'])[mask]\n",
    "        dayn = np.array(f['day_night_flag'])[mask] #day=0, night=1\n",
    "        #print('# profiles summing: ',len(iwc[:,20]))\n",
    "        \n",
    "        # calculate lat/lon indices for Xdeg grid:\n",
    "        ladex = np.floor((lat[:]+startlat) / gsize)\n",
    "        lodex = np.floor((lon[:]+180.0) / gsize)\n",
    "\n",
    "        iwp = [sum(iwc[x,hmask]*60.0) for x in range(len(iwc[:,20]))]\n",
    "        ariwp = np.array(iwp)\n",
    "        # all range gates are 60m here, so kg/m3 * m yields IWP in kg/m2\n",
    "        #print(info(np.array(iwp)))\n",
    "        \n",
    "        iwpall.extend(iwp)\n",
    "        lata.extend(lat)\n",
    "        dna.extend(dayn)\n",
    "        dmask.extend(dmsk)\n",
    "        \n",
    "        # running mean over iwp series:\n",
    "        iwpsmoo = ariwp # first few will be same, so will last few. \n",
    "        iwpsmoo[nsmo:(len(ariwp)-nsmo)] = \\\n",
    "         [ariwp[(x-nsmo):(x+nsmo)].mean() for x in range(nsmo,(len(ariwp)-nsmo))]\n",
    "        #print(np.size(iwpsmoo),np.size(lodex))\n",
    "        # broken up into chunks of 2*nsmo, then averaged\n",
    "        l = 2*nsmo\n",
    "        iwpb = np.array([ariwp[x*l:(x*l+2*nsmo)].mean() for x in range( int(np.floor(len(ariwp)/l)) )])\n",
    "        ladb = np.array([lat[x*l:(x*l+2*nsmo)].mean() for x in range( int(np.floor(len(ariwp)/l)) )])\n",
    "        lodb = np.array([lon[x*l:(x*l+2*nsmo)].mean() for x in range( int(np.floor(len(ariwp)/l)) )])\n",
    "        ladexb = np.floor((ladb[:]+startlat) / gsize)\n",
    "        lodexb = np.floor((lodb[:]+180.0) / gsize)\n",
    "        \n",
    "        iwpallb.extend(iwpb)\n",
    "        iwpalls.extend(iwpsmoo)\n",
    "\n",
    "        for x in range(nx):\n",
    "            if np.any(lodexb == x):\n",
    "                dexsubb = np.where(lodexb == x)\n",
    "                subsetb = iwpb[dexsubb] # using smoothed iwp or not?\n",
    "                subsetlab = ladexb[dexsubb]\n",
    "                for y in range(ny):\n",
    "                    if np.any(subsetlab == y):\n",
    "                        lolasubsetb = np.where(subsetlab == y)\n",
    "                        iwpgb[y,x] += subsetb[lolasubsetb].sum() # add up, get mean afterward\n",
    "                        iwpgcb[y,x] += len(subsetb[lolasubsetb])\n",
    "                        \n",
    "            if np.any(lodex == x):\n",
    "                dexsub = np.where(lodex == x)\n",
    "                subset = iwpsmoo[dexsub] # using smoothed iwp or not?\n",
    "                subsetla = ladex[dexsub]\n",
    "                for y in range(ny):\n",
    "                    if np.any(subsetla == y):\n",
    "                        lolasubset = np.where(subsetla == y)\n",
    "                        iwpg[y,x] += subset[lolasubset].sum() # add up, get mean afterward\n",
    "                        iwpgc[y,x] += len(subset[lolasubset])\n",
    "                        "
   ]
  },
  {
   "cell_type": "code",
   "execution_count": null,
   "metadata": {
    "collapsed": true
   },
   "outputs": [],
   "source": [
    "# turn into means \n",
    "realz = np.where(iwpgc >= 1)\n",
    "iwp_mean = np.zeros([ny,nx])\n",
    "iwp_mean[realz] = iwpg[realz] / iwpgc[realz] # calculate means\n",
    "realzb = np.where(iwpgcb >= 1)\n",
    "iwpb_mean = np.zeros([ny,nx])\n",
    "iwpb_mean[realzb] = iwpgb[realzb] / iwpgcb[realzb] # calculate means"
   ]
  },
  {
   "cell_type": "code",
   "execution_count": null,
   "metadata": {},
   "outputs": [],
   "source": [
    "#print(info(ladb),info(lodb))\n",
    "#print(info(lat),info(lon))\n",
    "print(info(iwp_mean[realz]))\n",
    "print(info(iwpb_mean[realzb]))\n",
    "#print(info(iwpg),info(iwpgc))\n",
    "#print(info(iwpgb),info(iwpgcb))\n",
    "print(info(iwpb),info(iwpsmoo),info(ariwp))\n",
    "np.shape(iwpgc),np.shape(iwpg),np.shape(iwpsmoo)\n"
   ]
  },
  {
   "cell_type": "code",
   "execution_count": null,
   "metadata": {},
   "outputs": [],
   "source": [
    "print(info(iwp_mean))\n",
    "fig = plt.figure(figsize=[16,11])\n",
    "#iwp_mean[np.where(iwp_mean > 4)] = 4.0 # say\n",
    "#from dmap import grdmap\n",
    "mapz = grdmap(np.flipud(iwp_mean),-180,startlat,.001)\n",
    "#fig.savefig('dardar.10days.1deg.jpg',dpi=300)\n",
    "#plt.imshow(iwp_mean)\n",
    "#plt.show()\n",
    "fig2 = plt.figure(figsize=[16,11])\n",
    "mapz = grdmap(np.flipud(iwpb_mean),-180,startlat,.001)"
   ]
  },
  {
   "cell_type": "code",
   "execution_count": null,
   "metadata": {},
   "outputs": [],
   "source": [
    "# create histogram of IWP\n",
    "\n",
    "#b = np.histogram(iwp,bins=[0.001,.005,.01,.05,.1,.5,1,2,4,8])\n",
    "#binz = [0.0,.0001,.00025,.0005,0.001,.0025,.005,.01,.025,.05,.1,.25,.5,1,2,4,8]\n",
    "binz = [2**x for x in range(-14,3)]\n",
    "latah = np.array(lata)\n",
    "dnaa = np.array(dna)\n",
    "iwpa = np.array(iwpall)\n",
    "hist, bin_edges = np.histogram(iwpa,bins=binz)#,density=True)\n",
    "iwpab = np.array(iwpallb)\n",
    "iwpas = np.array(iwpalls)\n",
    "histb, bin_edges = np.histogram(iwpab,bins=binz)#,density=True)\n",
    "hists, bin_edges = np.histogram(iwpas,bins=binz)#,density=True)\n",
    "mask1 = abs(latah)>30.0\n",
    "mask2 = abs(latah)<30.0\n",
    "mask3 = dnaa==0\n",
    "mask4 = dnaa==1\n",
    "iw1 = iwpa[mask1] #high lats\n",
    "iw2 = iwpa[mask2] #tropics\n",
    "iw3 = iwpa[mask3]\n",
    "iw4 = iwpa[mask4]\n",
    "hist1, bin_edges = np.histogram(iw1,bins=binz)#,density=True)\n",
    "hist2, bin_edges = np.histogram(iw2,bins=binz)#,density=True)\n",
    "hist3, bin_edges = np.histogram(iw3,bins=binz)#,density=True)\n",
    "hist4, bin_edges = np.histogram(iw4,bins=binz)#,density=True)\n",
    "fig = plt.figure()\n",
    "ax = fig.add_subplot(111)\n",
    "\n",
    "np.size(iwpa)\n",
    "numbins = len(hist)\n",
    "plt.plot(binz[1:],hist/sum(hist),'k-o',label='All (Native)')\n",
    "#plt.plot(binz[1:],hist1,'r-o',label='Lat >30')\n",
    "#plt.plot(binz[1:],hist2,'g-o',label='Lat <30')\n",
    "#plt.plot(binz[1:],hist3,'b-o',label='Daytime')\n",
    "#plt.plot(binz[1:],hist4,'y-o',label='Nighttime')\n",
    "plt.plot(binz[1:],histb/sum(histb),'r--o',label='Chunked')\n",
    "plt.plot(binz[1:],hists/sum(hists),'r-o',label='Smoothed')\n",
    "#plt.yscale('log')\n",
    "plt.xscale('log')\n",
    "plt.xlabel(r'$IWP [kg/m^2]$')\n",
    "plt.ylabel('Counts')\n",
    "#plt.ylim(.1,1.1)\n",
    "plt.legend()\n",
    "plt.title('IWP histo DARDAR, '+str(len(iwpa))+'pts')#+fii)\n",
    "#fig.savefig('dardar'+str(len(iwpa))+'.png',dpi=300)\n",
    "plt.show()\n"
   ]
  },
  {
   "cell_type": "code",
   "execution_count": null,
   "metadata": {
    "scrolled": false
   },
   "outputs": [],
   "source": []
  },
  {
   "cell_type": "code",
   "execution_count": null,
   "metadata": {
    "collapsed": true
   },
   "outputs": [],
   "source": []
  }
 ],
 "metadata": {
  "kernelspec": {
   "display_name": "Python 3",
   "language": "python",
   "name": "python3"
  },
  "language_info": {
   "codemirror_mode": {
    "name": "ipython",
    "version": 3
   },
   "file_extension": ".py",
   "mimetype": "text/x-python",
   "name": "python",
   "nbconvert_exporter": "python",
   "pygments_lexer": "ipython3",
   "version": "3.6.3"
  }
 },
 "nbformat": 4,
 "nbformat_minor": 2
}
