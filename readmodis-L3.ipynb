{
 "cells": [
  {
   "cell_type": "code",
   "execution_count": 1,
   "metadata": {
    "collapsed": true
   },
   "outputs": [],
   "source": [
    "# reading MODIS L3 data for IWP\n",
    "#   calculating histograms over multiple files/days\n",
    "from pyhdf.SD import SD, SDC\n",
    "from mpl_toolkits.basemap import Basemap #, cm\n",
    "import numpy as np\n",
    "import matplotlib.pyplot as plt\n",
    "import os\n",
    "#from gmap import grdmap"
   ]
  },
  {
   "cell_type": "code",
   "execution_count": 2,
   "metadata": {
    "collapsed": true
   },
   "outputs": [],
   "source": [
    "dire = '/home/dudavid/Dendrite/MODIS/'\n",
    "files = os.listdir(dire)\n",
    "iwpall = []\n",
    "#latdex = []\n",
    "#popdex = []"
   ]
  },
  {
   "cell_type": "code",
   "execution_count": 3,
   "metadata": {
    "scrolled": true
   },
   "outputs": [],
   "source": [
    "for fii in files:\n",
    "    hdf = SD(dire+fii,SDC.READ)\n",
    "    iw = 0.001 * hdf.select('Cloud_Water_Path_Ice_Mean')[:,:]\n",
    "    iwu= 0.001 * hdf.select('Cloud_Water_Path_Ice_Mean_Uncertainty')[:,:]\n",
    "    lf = 0.0001 * hdf.select('Land_Fraction_Day')[:,:]\n",
    "    iwp = np.reshape(np.array(iw+iwu),np.size(iw))\n",
    "    iwpu= np.reshape(np.array(iwu),np.size(iw))\n",
    "    lfo = np.reshape(np.array(lf),np.size(iw))\n",
    "    #print(np.shape(iw),np.shape(iwp))\n",
    "    #print(max(iwpu),max(iwp))\n",
    "    \n",
    "    #ladex = np.zeros(np.size(lfo))\n",
    "    #pop= np.reshape(np.array(f['S1/probabilityOfPrecip']),np.size(iw))\n",
    "    #lat= np.reshape(np.array(f['S1/Latitude']),np.size(iw))\n",
    "    #sfc= np.reshape(np.array(f['S1/surfaceTypeIndex']),np.size(iw))\n",
    "    #mask = iwp>0 #sfc<=1\n",
    "    mask = lfo < 0.1 #sfc<=1\n",
    "    \n",
    "    iwpo = iwp[mask]\n",
    "    #iwpo,popo,lato = iwp[mask],pop[mask],lat[mask]\n",
    "    iwpall.extend(iwpo)\n",
    "    #latdex.extend(lato)\n",
    "    #popdex.extend(popo)"
   ]
  },
  {
   "cell_type": "code",
   "execution_count": 6,
   "metadata": {
    "scrolled": false
   },
   "outputs": [
    {
     "name": "stdout",
     "output_type": "stream",
     "text": [
      "9.86 -19.998\n",
      "[    0     0     0     0     3   146  1337  8229 20856 28408 30269 28440\n",
      " 24224 19309  7550  1160]\n"
     ]
    },
    {
     "data": {
      "image/png": "[encoded data removed]",
      "text/plain": [
       "<matplotlib.figure.Figure at 0x7ff9b47d1fd0>"
      ]
     },
     "metadata": {},
     "output_type": "display_data"
    }
   ],
   "source": [
    "# create histogram of IWP\n",
    "iwpa = np.array(iwpall)\n",
    "#print(np.size(iwpall))\n",
    "#pops = np.array(popdex)\n",
    "#lats = np.array(latdex)\n",
    "#binz = [0.0,.0001,.00025,.0005,0.001,.0025,.005,.01,.025,.05,.1,.25,.5,1,2]\n",
    "binz = [2**x for x in range(-14,3)]\n",
    "#mask1 = [x >= 30 and x <= 70 for x in abs(lats)] #abs(lats)>30 and abs(lats)<70]\n",
    "#mask1 = abs(lats)>30 # can use the above to make AM2 semi-suit GMI (slower)\n",
    "#mask2 = pops>=50\n",
    "#mask3 = abs(lats)<=30\n",
    "#mask4 = pops<20\n",
    "#ip1 = iwpa[mask1]\n",
    "#ip2 = iwpa[mask2]\n",
    "#ip3 = iwpa[mask3]\n",
    "#ip4 = iwpa[mask4]\n",
    "\n",
    "print(iwpa.max(),iwpa.min())\n",
    "hist, bin_edges  = np.histogram(iwpa,bins=binz)\n",
    "print(hist)\n",
    "#hist1, bin_edges = np.histogram(ip1,bins=binz)\n",
    "#hist2, bin_edges = np.histogram(ip2,bins=binz)\n",
    "#hist3, bin_edges = np.histogram(ip3,bins=binz)\n",
    "#hist4, bin_edges = np.histogram(ip4,bins=binz)\n",
    "fig = plt.figure()\n",
    "ax = fig.add_subplot(111)\n",
    "\n",
    "plt.plot(binz[1:],hist,'r-o',label='All Ocean')\n",
    "#plt.plot(binz[1:],hist1,'b-o',label='Lat > 30')\n",
    "#plt.plot(binz[1:],hist3,'k-o',label='Lat < 30')\n",
    "#plt.plot(binz[1:],hist4,'y-o',label='POP < 20%')\n",
    "#plt.plot(binz[1:],hist2,'g-o',label='POP > 50%')\n",
    "plt.yscale('log')\n",
    "plt.xscale('log')\n",
    "plt.xlabel(r'$IWP [kg/m^2]$')\n",
    "plt.ylabel('Counts')\n",
    "plt.title('IWP histo, '+'week of MODIS L3')#dire)\n",
    "plt.ylim(1e2,8e4)\n",
    "plt.legend()\n",
    "fig.savefig('modisl3.week.png',dpi=300)\n",
    "plt.show()"
   ]
  },
  {
   "cell_type": "code",
   "execution_count": 5,
   "metadata": {
    "scrolled": false
   },
   "outputs": [],
   "source": [
    "#hist2\n",
    "\n",
    "#fig = plt.figure(figsize=[20,25])\n",
    "#m = Basemap(projection='cyl',lon_0=0)#,lat_0=0,resolution='l')\n",
    "#lons, lats = m.makegrid(1440,720)\n",
    "#x, y = m(lons, lats)\n",
    "#m.drawcoastlines()\n",
    "#clevs = [.001,0.004,.007,0.01,.02,.05,.075,.1,.25,.5,.75,1.0,2.0]\n",
    "#cs = m.contourf(x,y,iwp,clevs,latlon=1,cmap=cm.s3pcpn)\n",
    "#cbar = m.colorbar(cs,location='bottom')\n",
    "#plt.show()"
   ]
  },
  {
   "cell_type": "code",
   "execution_count": null,
   "metadata": {
    "collapsed": true
   },
   "outputs": [],
   "source": []
  },
  {
   "cell_type": "code",
   "execution_count": null,
   "metadata": {
    "collapsed": true
   },
   "outputs": [],
   "source": []
  }
 ],
 "metadata": {
  "kernelspec": {
   "display_name": "Python 3",
   "language": "python",
   "name": "python3"
  },
  "language_info": {
   "codemirror_mode": {
    "name": "ipython",
    "version": 3
   },
   "file_extension": ".py",
   "mimetype": "text/x-python",
   "name": "python",
   "nbconvert_exporter": "python",
   "pygments_lexer": "ipython3",
   "version": "3.6.3"
  }
 },
 "nbformat": 4,
 "nbformat_minor": 2
}
