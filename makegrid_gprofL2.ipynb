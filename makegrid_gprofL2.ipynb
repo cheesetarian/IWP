{
 "cells": [
  {
   "cell_type": "code",
   "execution_count": 1,
   "metadata": {
    "collapsed": true
   },
   "outputs": [],
   "source": [
    "# reading spare ice netcdf (gzipped) files and outputting monthly files for totals \n",
    "#  and counts onto a chosen grid, which can then be read by another\n",
    "#  python script\n",
    "# dduncan, 20/12/17\n",
    "# modifying spare-ice l2 code to do the same for GPROF L2 data, 30/12\n",
    "\n",
    "#import netCDF4\n",
    "#from mpl_toolkits.basemap import Basemap, cm\n",
    "#from pyhdf.SD import SD, SDC\n",
    "#import gzip\n",
    "#import shutil\n",
    "#import tempfile\n",
    "import os\n",
    "import h5py"
   ]
  },
  {
   "cell_type": "code",
   "execution_count": 2,
   "metadata": {
    "collapsed": true
   },
   "outputs": [],
   "source": [
    "#def open_netcdf(fname):\n",
    "#    if fname.endswith(\".gz\"):\n",
    "#        infile = gzip.open(fname, 'rb')\n",
    "#        tmp = tempfile.NamedTemporaryFile(delete=False)\n",
    "#        shutil.copyfileobj(infile, tmp)\n",
    "#        infile.close()\n",
    "#        tmp.close()\n",
    "#        data = netCDF4.Dataset(tmp.name)\n",
    "#        os.unlink(tmp.name)\n",
    "#    else:\n",
    "#        data = netCDF4.Dataset(fname)\n",
    "#    return data"
   ]
  },
  {
   "cell_type": "code",
   "execution_count": 3,
   "metadata": {},
   "outputs": [
    {
     "name": "stdout",
     "output_type": "stream",
     "text": [
      "['1501', '1502', '1503', '1504', '1505', '1506', '1507', '1508', '1509', '1510', '1511', '1512']\n"
     ]
    }
   ],
   "source": [
    "yr = '15'\n",
    "dn = 'day' # new 2/1/18, day night selection (previous was day hardcoded)\n",
    "#dirt = '/home/dudavid/Dendrite/Dendrite/SatData/SpareICE/avhrr_345_mhs_345_angles_tsurfcfsr_all_global_h/20'+yr+'/' \n",
    "dirt = '/home/dudavid/Dendrite/Dendrite/UserAreas/Dave/GPM/AM2_l2/20'+yr+'/' \n",
    "months = sorted(os.listdir(dirt))\n",
    "print(months)\n",
    "\n",
    "startlat = 90.0 # abs value of NS boundaries\n",
    "gsize = 2.5 # grid size in degree\n",
    "nx, ny = int(360/gsize), int(startlat*2/gsize)\n",
    "sk = 2 # skipping across scans to speed up initially\n"
   ]
  },
  {
   "cell_type": "code",
   "execution_count": 10,
   "metadata": {
    "scrolled": true
   },
   "outputs": [
    {
     "name": "stdout",
     "output_type": "stream",
     "text": [
      "month:  1512\n",
      "151201\n",
      "151202\n",
      "151203\n",
      "151204\n",
      "151205\n",
      "151206\n",
      "151207\n",
      "151208\n",
      "151209\n",
      "151210\n",
      "151211\n",
      "151212\n",
      "151213\n",
      "151214\n",
      "151215\n",
      "151216\n",
      "151217\n",
      "151218\n",
      "151219\n",
      "151220\n",
      "151221\n",
      "151222\n",
      "151223\n",
      "151224\n",
      "151225\n",
      "151226\n",
      "151227\n",
      "151228\n",
      "151229\n",
      "151230\n",
      "151231\n",
      "out [    121     539    2694 1128313 1523562 1145485 1407085 1455521 1170339\n",
      "  661973  433008  283865  171973  138973  111131   66792   30924    2361\n",
      "      15       1]\n"
     ]
    }
   ],
   "source": [
    "for m in months[11:]:\n",
    "    print('month: ',m)\n",
    "    iwpg,iwpgc = np.zeros([ny,nx]), np.zeros([ny,nx]) # re-init for each month\n",
    "    iwpall = []\n",
    "    days = sorted(os.listdir(dirt+m+'/'))\n",
    "    ndays = 0 #init\n",
    "    for d in days:\n",
    "        print(d)\n",
    "        files = sorted(os.listdir(dirt+m+'/'+d))\n",
    "        if len(files) != 0:  # in case no files in day dir\n",
    "            ndays += 1\n",
    "            for fix in files[:1]: #range(len(files)):\n",
    "                file = dirt+m+'/'+d+'/'+fix\n",
    "                f = h5py.File(file,'r')\n",
    "                iw = f['S1/iceWaterPath']#[:,::sk]\n",
    "                half = round(np.shape(iw)[0]/2)-1 # half of nscans, effectively\n",
    "                # taking FIRST half of scans from AM2 should guarantee daytime obs only (asc orbit)\n",
    "                if dn == 'night': h1,h2 = half, np.shape(iw)[0]\n",
    "                if dn == 'day':   h1,h2 = 0, half\n",
    "                iwt = iw[h1:h2,::sk] #,np.size(iw))\n",
    "                iwp = np.reshape(iwt,np.size(iwt)) # make 1D\n",
    "                #pop= np.reshape(np.array(f['S1/probabilityOfPrecip']),np.size(iw))\n",
    "                lat= np.reshape(f['S1/Latitude'][h1:h2,::sk],np.size(iwp))\n",
    "                lon= np.reshape(f['S1/Longitude'][h1:h2,::sk],np.size(iwp))\n",
    "                #sct= f['S1/SCstatus/SClatitude'][h1:h2]#,np.size(iwp))\n",
    "                #scd = [sct[x+1]-sct[x] for x in range(len(sct)-1)]\n",
    "                #print(half,info(scd))\n",
    "                #sfc= np.reshape(np.array(f['S1/surfaceTypeIndex']),np.size(iw))\n",
    "                \n",
    "                scrn = [iwp >= 0.0] #AVOIDs missing (negative) values\n",
    "                #print(len(iwp),len(iwp[scrn]))\n",
    "                if len(scrn) == 0: print('problem!')\n",
    "        \n",
    "                # calculate lat/lon indices for Xdeg grid (fixed 23/11):\n",
    "                ladex = np.round((lat[scrn]+startlat-gsize*.5) / gsize)\n",
    "                lodex = np.round((lon[scrn]+180.0-gsize*.5) / gsize)\n",
    "                siwp = iwp[scrn] # >=0 values only!\n",
    "                if len(siwp) > 0: \n",
    "                    scndscrn = [abs(lat[scrn]) <= 60]\n",
    "                    iwpall.extend(siwp[scndscrn]) # just take 60NS points for histo\n",
    "                    #print(np.max(siwp))#info(siwp))#,info(iwp))\n",
    "\n",
    "                    ### commented out for histo/pdf calculation\n",
    "                #for x in range(nx):\n",
    "                #    if np.any(lodex == x):\n",
    "                #        dexsub = np.where(lodex == x)\n",
    "                #        subset = siwp[dexsub] \n",
    "                #        subsetla = ladex[dexsub]\n",
    "                #        for y in range(ny):\n",
    "                #            if np.any(subsetla == y):\n",
    "                #                lolasubset = np.where(subsetla == y)\n",
    "                #                iwpg[y,x] += subset[lolasubset].sum() # add up, get mean afterward\n",
    "                #                iwpgc[y,x] += len(subset[lolasubset])\n",
    "                                \n",
    "    nd = str(ndays)\n",
    "    # dataset name, res (x,y), time res of input, output arrays (grids, zonals), version?, # days\n",
    "    #fin = 'grids/gprofAM2.'+dn+'.'+str(nx)+'x.'+str(ny)+'y.iwptot.cts.hist.v1.'+m+'.'+nd\n",
    "    #if os.path.isfile(fin+'.tot.npy'):\n",
    "    #    print(outfi,' already exists!')\n",
    "    #else:\n",
    "    #    np.save(fin+'.tot',iwpg)\n",
    "    #    np.save(fin+'.cts',iwpgc)\n",
    "        \n",
    "    #create histogram of IWP\n",
    "    binz = [2**x for x in range(-14,6)]\n",
    "    binzz= [-.001,2**(-14)]\n",
    "    hista, bin_edges  = np.histogram(np.array(iwpall),bins=binz)\n",
    "    histaz, bin_edges = np.histogram(np.array(iwpall),bins=binzz)\n",
    "    fin = 'grids/gprofAM2.'+dn+'.60NS.histo.v2.'+m+'.'+nd # didnt run a year cuz\n",
    "    #  'zero' gprof results for IWP are less than one in a 1e5 or so, totally negligible for plot\n",
    "    if os.path.isfile(fin+'.npy'):\n",
    "        print(fin+'.npy',' already exists!')\n",
    "    else:\n",
    "        outz = np.append(histaz,hista)\n",
    "        print('out',outz)\n",
    "        np.save(fin,outz)#hista)\n",
    "                \n"
   ]
  },
  {
   "cell_type": "code",
   "execution_count": 5,
   "metadata": {},
   "outputs": [
    {
     "name": "stdout",
     "output_type": "stream",
     "text": [
      "[0.0, 53.350182, 0.029639434, 0.1801248]\n"
     ]
    }
   ],
   "source": [
    "print(info(iwpall))"
   ]
  },
  {
   "cell_type": "code",
   "execution_count": 6,
   "metadata": {
    "collapsed": true
   },
   "outputs": [],
   "source": [
    "#b = [iwpall > 3.0]\n",
    "#print(b)\n",
    "#print(info(iwpall[b]))"
   ]
  },
  {
   "cell_type": "code",
   "execution_count": null,
   "metadata": {
    "collapsed": true
   },
   "outputs": [],
   "source": []
  }
 ],
 "metadata": {
  "kernelspec": {
   "display_name": "Python 3",
   "language": "python",
   "name": "python3"
  },
  "language_info": {
   "codemirror_mode": {
    "name": "ipython",
    "version": 3
   },
   "file_extension": ".py",
   "mimetype": "text/x-python",
   "name": "python",
   "nbconvert_exporter": "python",
   "pygments_lexer": "ipython3",
   "version": "3.6.4"
  }
 },
 "nbformat": 4,
 "nbformat_minor": 2
}
